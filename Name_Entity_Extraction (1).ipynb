{
  "nbformat": 4,
  "nbformat_minor": 0,
  "metadata": {
    "colab": {
      "provenance": []
    },
    "kernelspec": {
      "name": "python3",
      "display_name": "Python 3"
    },
    "language_info": {
      "name": "python"
    }
  },
  "cells": [
    {
      "cell_type": "markdown",
      "source": [
        "# 1. Importing Libraries"
      ],
      "metadata": {
        "id": "7pRCg0nq-sNo"
      }
    },
    {
      "cell_type": "code",
      "source": [
        "# Import necessary libraries\n",
        "import pandas as pd\n",
        "import matplotlib.pyplot as plt\n",
        "import json\n",
        "import spacy\n",
        "from spacy.training import Example\n",
        "import pickle\n",
        "import joblib\n",
        "from google.colab import files"
      ],
      "metadata": {
        "id": "lIa3UvUL2YKX"
      },
      "execution_count": null,
      "outputs": []
    },
    {
      "cell_type": "markdown",
      "source": [
        "# 2. Data Preprocessing"
      ],
      "metadata": {
        "id": "lAmUsoPXonTi"
      }
    },
    {
      "cell_type": "code",
      "execution_count": null,
      "metadata": {
        "id": "ac-YMlFOz7h4",
        "colab": {
          "base_uri": "https://localhost:8080/"
        },
        "outputId": "78f38197-a6bf-41c3-9c59-7dc848a7f19e"
      },
      "outputs": [
        {
          "output_type": "stream",
          "name": "stdout",
          "text": [
            "Cleaned data saved to /content/cleaned_data.csv\n"
          ]
        }
      ],
      "source": [
        "import pandas as pd\n",
        "\n",
        "# Load the CSV file\n",
        "file_path = '/content/Big Data 17000.csv'  # Replace with your actual file path\n",
        "df = pd.read_csv(file_path)\n",
        "\n",
        "# Ensure the column name is 'Description' or replace it if named differently\n",
        "if 'Description' not in df.columns:\n",
        "    raise ValueError(\"The file must have a column named 'Description'.\")\n",
        "\n",
        "# Step 1: Remove digits and special characters (leaving only letters and spaces)\n",
        "df['CleanDescription'] = df['Description'].str.replace(r'[^a-zA-Z\\s]', ' ', regex=True)\n",
        "\n",
        "# Step 2: Remove all occurrences of 'x' or 'X' from the entire description\n",
        "df['CleanDescription'] = df['CleanDescription'].str.replace(r'[xX]+', '', regex=True)\n",
        "\n",
        "# Step 3: Normalize spaces (remove extra spaces caused by cleaning)\n",
        "df['CleanDescription'] = df['CleanDescription'].str.replace(r'\\s+', ' ', regex=True).str.strip()\n",
        "\n",
        "# Step 4: Extract the first word from the cleaned description\n",
        "df['FirstWord'] = df['CleanDescription'].str.split().str[0]\n",
        "\n",
        "# Step 5: Keep only relevant columns\n",
        "df = df[['Description', 'CleanDescription', 'FirstWord']]\n",
        "\n",
        "# Step 6: Save the cleaned DataFrame to a CSV file\n",
        "output_file = '/content/cleaned_data.csv'\n",
        "df.to_csv(output_file, index=False)\n",
        "\n",
        "print(f\"Cleaned data saved to {output_file}\")\n"
      ]
    },
    {
      "cell_type": "code",
      "source": [
        "# Load the CSV file\n",
        "file_path = '/content/Training Annoted Data.csv'\n",
        "\n",
        "# Get all unique keys in the 'FirstWord' column\n",
        "unique_keys = df['FirstWord'].unique()\n",
        "\n",
        "# Initialize an empty DataFrame to store sampled data\n",
        "sampled_data = pd.DataFrame()\n",
        "\n",
        "# Iterate over each unique key and sample up to 500 entries\n",
        "for key in unique_keys:\n",
        "    key_data = df[df['FirstWord'] == key]\n",
        "    key_sampled = key_data.sample(n=min(500, len(key_data)), random_state=42)\n",
        "    sampled_data = pd.concat([sampled_data, key_sampled])\n",
        "\n",
        "# Print the number of sampled transactions\n",
        "print(f\"Number of transactions after sampling: {len(sampled_data)}\")\n",
        "print(sampled_data.head())\n",
        "\n",
        "# Save sampled transactions to a CSV file\n",
        "sampled_data.to_csv(\"sampled_data.csv\", index=False)\n"
      ],
      "metadata": {
        "id": "Yc8y9vDd2WJe",
        "colab": {
          "base_uri": "https://localhost:8080/"
        },
        "outputId": "d3f823ee-0885-4cbf-aa4f-8c19ec730f9e"
      },
      "execution_count": null,
      "outputs": [
        {
          "output_type": "stream",
          "name": "stdout",
          "text": [
            "Number of transactions after sampling: 8181\n",
            "                           Description                    CleanDescription  \\\n",
            "10                   ach ucba razorpay                   ach ucba razorpay   \n",
            "9          ach ucba protiumfinancelimi         ach ucba protiumfinancelimi   \n",
            "0   ach cholamandalaminvestm icic nici  ach cholamandalaminvestm icic nici   \n",
            "8        ach ucba piramalcapitalandhou       ach ucba piramalcapitalandhou   \n",
            "5           ach ucba finindianclearing          ach ucba finindianclearing   \n",
            "\n",
            "   FirstWord  \n",
            "10       ach  \n",
            "9        ach  \n",
            "0        ach  \n",
            "8        ach  \n",
            "5        ach  \n"
          ]
        }
      ]
    },
    {
      "cell_type": "code",
      "source": [
        "# Load the CSV file\n",
        "file_path = '/content/sampled_data.csv'\n",
        "df = pd.read_csv(file_path)\n",
        "\n",
        "# Count occurrences of each first word\n",
        "first_word_counts = df['FirstWord'].value_counts()\n",
        "top_count = first_word_counts.head(30)\n",
        "\n",
        "# Output the counts (optional)\n",
        "print(\"First Word Counts (Total):\", first_word_counts.count())\n",
        "\n",
        "# Plot the distribution\n",
        "plt.figure(figsize=(10, 6))\n",
        "top_count.plot(kind='bar', color='skyblue')\n",
        "plt.title('Category (First Word) Distribution')\n",
        "plt.xlabel('First Word')\n",
        "plt.ylabel('Count')\n",
        "plt.xticks(rotation=45, ha='right')\n",
        "plt.tight_layout()\n",
        "plt.show()\n"
      ],
      "metadata": {
        "id": "X1LO9z4I6mw1",
        "colab": {
          "base_uri": "https://localhost:8080/",
          "height": 625
        },
        "outputId": "c0b9ba41-f21f-4f33-c4ee-94b85c3820e2"
      },
      "execution_count": null,
      "outputs": [
        {
          "output_type": "stream",
          "name": "stdout",
          "text": [
            "First Word Counts (Total): 908\n"
          ]
        },
        {
          "output_type": "display_data",
          "data": {
            "text/plain": [
              "<Figure size 1000x600 with 1 Axes>"
            ],
            "image/png": "[encoded data removed]"
          },
          "metadata": {}
        }
      ]
    },
    {
      "cell_type": "code",
      "source": [
        "# Load and shuffle the CSV data\n",
        "csv_path = \"/content/test_data2_csv.csv\"\n",
        "data = pd.read_csv(csv_path)\n",
        "shuffled_data = data.sample(frac=1, random_state=42).reset_index(drop=True)\n",
        "\n",
        "# Save shuffled data\n",
        "shuffled_csv_path = \"shuffled_data_ready_for_training.csv\"\n",
        "shuffled_data.to_csv(shuffled_csv_path, index=False)\n",
        "print(f\"Shuffled data saved to {shuffled_csv_path}\")\n"
      ],
      "metadata": {
        "id": "nAhCVzEu0_Dc",
        "colab": {
          "base_uri": "https://localhost:8080/"
        },
        "outputId": "824fb901-df12-4721-d62f-5b997d0a7cbe"
      },
      "execution_count": null,
      "outputs": [
        {
          "output_type": "stream",
          "name": "stdout",
          "text": [
            "Shuffled data saved to shuffled_data_ready_for_training.csv\n"
          ]
        }
      ]
    },
    {
      "cell_type": "code",
      "source": [
        "# Load the shuffled data\n",
        "file_path = \"/content/shuffled_data_ready_for_training.csv\"\n",
        "df = pd.read_csv(file_path)\n",
        "\n",
        "# Function to create JSON structure\n",
        "def validate_and_generate_json(row, id_start, project_id=\"ner_training_project\"):\n",
        "    text = str(row['Description']).strip()\n",
        "    name = str(row['Name']).strip()\n",
        "    if not name or not text or name.lower() not in text.lower():\n",
        "        return None\n",
        "    start_idx = text.lower().find(name.lower())\n",
        "    if start_idx == -1:\n",
        "        return None\n",
        "    end_idx = start_idx + len(name)\n",
        "    return {\n",
        "        \"id\": id_start,\n",
        "        \"project_id\": project_id,\n",
        "        \"data\": {\"text\": text},\n",
        "        \"annotations\": [{\"result\": [{\"id\": \"annotation_id\", \"type\": \"labels\", \"value\": {\"start\": start_idx, \"end\": end_idx, \"text\": text[start_idx:end_idx], \"labels\": [\"Beneficiary Name\"]}}]}]\n",
        "    }\n",
        "\n",
        "# Generate JSON data\n",
        "json_output = []\n",
        "id_start = 31300\n",
        "for idx, row in df.iterrows():\n",
        "    json_data = validate_and_generate_json(row, id_start=id_start + idx)\n",
        "    if json_data:\n",
        "        json_output.append(json_data)\n",
        "    else:\n",
        "        print(f\"Skipping row {idx}: Description='{row['Description']}', Name='{row['Name']}'\")\n",
        "\n",
        "# Save to JSON file\n",
        "output_file_path = 'Training_Json_Data.json'\n",
        "with open(output_file_path, 'w') as outfile:\n",
        "    json.dump(json_output, outfile, indent=4)\n",
        "print(f\"JSON file saved to {output_file_path}\")\n"
      ],
      "metadata": {
        "id": "T1en5ujf5MfS",
        "colab": {
          "base_uri": "https://localhost:8080/"
        },
        "outputId": "c195920d-85ec-4446-8791-559889150b57"
      },
      "execution_count": null,
      "outputs": [
        {
          "output_type": "stream",
          "name": "stdout",
          "text": [
            "JSON file saved to Training_Json_Data.json\n"
          ]
        }
      ]
    },
    {
      "cell_type": "markdown",
      "source": [
        "# 3. Model Training"
      ],
      "metadata": {
        "id": "bAO4eH17otWj"
      }
    },
    {
      "cell_type": "code",
      "source": [
        "# 6. Model Training - Data prepare\n",
        "\n",
        "\n",
        "# Load the exported Label Studio data\n",
        "with open(\"/content/Dhwani Final 2 Training.json\", \"r\") as file:\n",
        "    label_studio_data = json.load(file)\n",
        "\n",
        "# Prepare training data\n",
        "TRAINING_DATA = []\n",
        "\n",
        "# Check if the top-level structure is a list\n",
        "if isinstance(label_studio_data, list):\n",
        "    for item in label_studio_data:\n",
        "        if \"data\" in item and \"text\" in item[\"data\"]:\n",
        "            text = item[\"data\"][\"text\"]\n",
        "            entities = []\n",
        "\n",
        "            # Handle annotations (adjust this part based on actual structure)\n",
        "            if \"annotations\" in item:\n",
        "                for annotation in item[\"annotations\"]:\n",
        "                    for result in annotation[\"result\"]:\n",
        "                        if \"value\" in result and \"start\" in result[\"value\"] and \"end\" in result[\"value\"] and \"labels\" in result[\"value\"]:\n",
        "                            start = result[\"value\"][\"start\"]\n",
        "                            end = result[\"value\"][\"end\"]\n",
        "                            label = result[\"value\"][\"labels\"][0]\n",
        "                            entities.append((start, end, label))\n",
        "            TRAINING_DATA.append((text, {\"entities\": entities}))\n",
        "\n",
        "else:\n",
        "    print(\"Unexpected data format. Please check the structure of the JSON.\")\n",
        "\n",
        "# Verify the training data format\n",
        "print(\"Training Data:\", TRAINING_DATA)\n"
      ],
      "metadata": {
        "id": "1gIYcUJm5tIw",
        "colab": {
          "base_uri": "https://localhost:8080/"
        },
        "outputId": "d92a2ea2-71c3-40ff-c901-5b1b2ccbe3c0"
      },
      "execution_count": null,
      "outputs": [
        {
          "output_type": "stream",
          "name": "stdout",
          "text": [
            "Training Data: [('upi dr usmanmehbooba bar upi', {'entities': [(7, 20, 'PER')]}), ('upi vandana pytm xx upi', {'entities': [(4, 11, 'PER')]}), ('chqpaid ctsinwardclearingzone lendingkartf', {'entities': [(30, 42, 'PER')]}), ('com pcd bundltechnologies', {'entities': [(8, 25, 'PER')]}), ('neftsbin iitismdhanbad', {'entities': [(9, 22, 'PER')]}), ('pcd jiouniversty mumbai', {'entities': [(4, 16, 'PER')]}), ('wdltfrupi dr milinasa bdbl milinasang upi at sbiofficers qrtrsgokuldham', {'entities': [(13, 21, 'PER')]}), ('imps psintegratese srcb', {'entities': [(5, 18, 'PER')]}), ('imps p a hdfc akppayment', {'entities': [(13, 24, 'PER')]}), ('atl centralavenuepowaim', {'entities': [(4, 17, 'PER')]}), ('nft rajukumar fdrlh idfc', {'entities': [(4, 13, 'PER')]}), ('deposit trf omsaitraders', {'entities': [(12, 24, 'PER')]}), ('totransfer upi dr mohdkal ubin shaikhk uber', {'entities': [(18, 25, 'PER'), (30, 38, 'PER')]}), ('pcd myntradesignspvtltd mumbai', {'entities': [(4, 23, 'PER')]}), ('wdltfrupi dr neelam sbin payalyadav upi at sbiofficers qrtrsgokuldham', {'entities': [(13, 19, 'PER'), (25, 35, 'PER')]}), ('mmt imps advancepaymentf pradippaga k', {'entities': [(25, 35, 'PER')]}), ('toib c iiflnov emi', {'entities': []}), ('wdltfrupi dr swiggy icic swiggystor upi at sbiofficers qrtrsgokuldham', {'entities': [(13, 19, 'PER')]}), ('neft kmmfbrokerage kkbkh', {'entities': [(4, 18, 'PER')]}), ('upi dr jagannathprasa barb auto', {'entities': [(7, 21, 'PER')]}), ('jalaramstores', {'entities': [(0, 13, 'PER')]}), ('chqpaid self byself sillod', {'entities': [(13, 19, 'PER')]}), ('peediakkalagencies', {'entities': [(0, 18, 'PER')]}), ('upi entertainmentpa oid', {'entities': [(4, 19, 'PER')]}), ('rajengineeringworks', {'entities': [(0, 19, 'PER')]}), ('rtgsbdblr mr tuhinranjanjana', {'entities': [(13, 28, 'PER')]}), ('upi smartbike mobility p paytm paytm pytm oid smartbik', {'entities': [(4, 13, 'PER')]}), ('chqpaid micrcts mu hrbindustrieals', {'entities': [(19, 34, 'PER')]}), ('wdltfrupi dr sandeep icic sandeeptho redb at sbiofficers qrtrsgokuldham', {'entities': [(13, 20, 'PER')]}), ('imps sushmakumariw ogi j', {'entities': [(5, 18, 'PER')]}), ('pos foodbasketnav', {'entities': [(4, 17, 'PER')]}), ('toib c priyanshuacaug staffsalarylntalirajpur', {'entities': [(7, 21, 'PER')]}), ('megamaninfosyshdfcbankltd', {'entities': [(0, 7, 'PER')]}), ('ach ucba aditybirlafinance', {'entities': [(9, 26, 'PER')]}), ('hardwareconceptsalaryconveyancemar', {'entities': [(0, 15, 'PER')]}), ('toib c anandsawalkarweeklylntkalisindh', {'entities': [(7, 20, 'PER')]}), ('wdltfrupi dr dharmend kkbk diwakar sh upi at sbiofficers qrtrsgokuldham', {'entities': [(13, 21, 'PER')]}), ('msvidishasangani', {'entities': [(0, 16, 'PER')]}), ('grauerandweilindialtd', {'entities': [(0, 21, 'PER')]}), ('clg bhagat punjab', {'entities': [(4, 10, 'PER')]}), ('inf inft deepaksinghania', {'entities': [(9, 24, 'PER')]}), ('chqpaid micrcts mu saraswatisalescor', {'entities': [(19, 36, 'PER')]}), ('nft seemaawadh fdrlh axisbank', {'entities': [(4, 14, 'PER')]}), ('totransfer upi dr anmeshs bkid anmeshamdo ayum', {'entities': [(18, 25, 'PER'), (31, 41, 'PER')]}), ('tpt b sargamneharanadejangrocery nehaprasadranade', {'entities': [(33, 49, 'PER')]}), ('deposit deposit imps skjunedsktahe', {'entities': [(21, 34, 'PER')]}), ('achc tcsfindiv', {'entities': [(5, 14, 'PER')]}), ('ft dr shreeenterpr', {'entities': [(6, 18, 'PER')]}), ('toatm geetanjalinehruroa geetan', {'entities': [(6, 24, 'PER')]}), ('rtgsdr utib econshiptechprivatelimited netbank mum hdfcr invno', {'entities': [(12, 38, 'PER')]}), ('toib c wondercement baglntparwati', {'entities': [(7, 19, 'PER')]}), ('jinalenterprise', {'entities': [(0, 15, 'PER')]}), ('archanarandhirmahadik', {'entities': [(0, 21, 'PER')]}), ('byimpsrrn rajeshsinghal loanwithoutin', {'entities': [(10, 23, 'PER')]}), ('adityabirlasunlif', {'entities': [(0, 17, 'PER')]}), ('totransfer upi dr rachana hdfc rachana veggi', {'entities': [(18, 25, 'PER')]}), ('toecm visa amazonprivabangalorein bha ca gen h id ref', {'entities': [(11, 17, 'PER')]}), ('brn clg chqpaidtouniversalsales kokanmercanti', {'entities': [(32, 45, 'PER')]}), ('sohamenterprises', {'entities': [(0, 16, 'PER')]}), ('upi dr irctcappupi pytm oid', {'entities': [(7, 18, 'PER')]}), ('upi p a satish stateban upi', {'entities': [(8, 14, 'PER')]}), ('ft pentagonwaterl omshreeinternationalpvtltd', {'entities': [(18, 44, 'PER')]}), ('clg mpjewellsentsrikantod punjab', {'entities': [(4, 25, 'PER')]}), ('clg visparkjewellerymfrsp', {'entities': [(4, 25, 'PER')]}), ('maherucreation', {'entities': [(0, 14, 'PER')]}), ('nft themumbai fdrlh gopi', {'entities': [(20, 24, 'PER')]}), ('chintanagencies', {'entities': [(0, 15, 'PER')]}), ('toib c irtanbhaibariyaweeklylntkundalia', {'entities': [(7, 22, 'PER')]}), ('ib neft srcbx ajaybibi junesalary', {'entities': [(14, 22, 'PER')]}), ('totransfer upi dr vikramm icic mathur vik udai', {'entities': [(18, 25, 'PER'), (31, 37, 'PER')]}), ('totransfer upi dr abhishek pytm paytmqr lunch', {'entities': [(18, 26, 'PER')]}), ('anjalisilkmills', {'entities': [(0, 15, 'PER')]}), ('upiout vvish okhdfcbank p', {'entities': [(7, 12, 'PER')]}), ('clg nabhientp axisbankltd', {'entities': [(4, 13, 'PER')]}), ('neft barbu s m a kapadiaco', {'entities': [(17, 26, 'PER')]}), ('anupamarajkumarsaboo', {'entities': [(0, 20, 'PER')]}), ('chqpaid micrcts mu riddhienterprises', {'entities': [(19, 36, 'PER')]}), ('pcd wwwswiggycom', {'entities': [(7, 13, 'PER')]}), ('ft shree milanroadbuildtechllp', {'entities': [(9, 30, 'PER')]}), ('neftin on molexindiabusinessservice', {'entities': [(10, 35, 'PER')]}), ('pos agarwalcorporation', {'entities': [(4, 22, 'PER')]}), ('tfr vrushaliavhad', {'entities': [(4, 17, 'PER')]}), ('toib c balgariyatetiyajune finalpaymentlntalirajp', {'entities': [(7, 26, 'PER')]}), ('imps shuchilalitagarwal imps', {'entities': [(5, 23, 'PER')]}), ('chqpaid micrcts mu scenterprises', {'entities': [(19, 32, 'PER')]}), ('imps gayatrisanjaybobade bankofmaharas', {'entities': [(5, 24, 'PER')]}), ('totransfer upi dr generico pytm paytmqr meds', {'entities': [(18, 26, 'PER')]}), ('ib neft srcbv durgapras localtouradva', {'entities': [(14, 23, 'PER')]}), ('toib c bindaldeveloperspaymentlntparwati', {'entities': [(7, 23, 'PER')]}), ('rtgshdfcr sohamjewellers', {'entities': [(10, 24, 'PER')]}), ('pos shreepathologythanemhin', {'entities': [(4, 18, 'PER')]}), ('nft saishaservices sbin sbi', {'entities': [(4, 18, 'PER')]}), ('sigmaengvalbillnitinchoudhary', {'entities': [(0, 29, 'PER')]}), ('manojkharatmal', {'entities': [(0, 14, 'PER')]}), ('toib c manojiciciac', {'entities': [(7, 19, 'PER')]}), ('upi deepakkumarsinghs q ybl ubin paymentfromphone', {'entities': [(4, 21, 'PER')]}), ('pos parlemurugan parl', {'entities': [(4, 16, 'PER')]}), ('toib c sainathdieselpayment', {'entities': [(7, 27, 'PER')]}), ('rupaypos sliverleafhotelspvtahmedabadgjin', {'entities': [(9, 28, 'PER')]}), ('chqpaid micrcts mu osmgoodspltd', {'entities': [(19, 31, 'PER')]}), ('visamerchrefund oct google booksmadeeasy', {'entities': [(0, 15, 'PER')]}), ('ft msmaulicollectiondr ms', {'entities': [(3, 22, 'PER')]}), ('cr forrtgsutibh anilpandurang', {'entities': [(16, 29, 'PER')]}), ('toib c mopsesic esicnov panametricspali', {'entities': [(24, 39, 'PER')]}), ('deposit deptrf nstraders chillipay', {'entities': [(15, 24, 'PER')]}), ('imps bombaygoldenroadli hdfc advanceconfirmation', {'entities': [(5, 23, 'PER')]}), ('vseries', {'entities': [(0, 7, 'PER')]}), ('upi cr gurunathchandras bki payment', {'entities': [(7, 23, 'PER')]}), ('ib neft srcby iradimudi sepsalary', {'entities': []}), ('rtgsbarbr rakeshsonisomaganl', {'entities': [(10, 28, 'PER')]}), ('chqpaid micrcts mu rajsales', {'entities': [(19, 27, 'PER')]}), ('nft mangeshmal fdrlh punjab', {'entities': [(4, 14, 'PER')]}), ('byimpsrrn ankurkothari jaiganesh', {'entities': [(23, 32, 'PER'), (10, 22, 'PER')]}), ('tpt rentandremmunerton murlidharprakashsutrave', {'entities': [(23, 46, 'PER')]}), ('neft mb axmb madhavr abhyuda', {'entities': [(13, 20, 'PER'), (21, 28, 'PER')]}), ('inf inft prashanticici', {'entities': [(9, 17, 'PER')]}), ('rupaypos starbazaarmumbaimain', {'entities': [(9, 29, 'PER')]}), ('ib neft srcby saqib expreimbursment', {'entities': [(20, 35, 'PER')]}), ('rtgscr dcbl neharajeshyadav nadcrpatsinghrajput dcblr', {'entities': [(12, 27, 'PER')]}), ('upi rahman kkbk xx upi', {'entities': [(4, 10, 'PER')]}), ('atmwdr shivshradha', {'entities': [(7, 18, 'PER')]}), ('kamdhenusarees', {'entities': [(0, 14, 'PER')]}), ('byrtgsid from mr navinchandradamodarmhalaskarmhalaskarwadi', {'entities': [(17, 58, 'PER')]}), ('ib neft srcbv mahadev salaryapr', {'entities': [(14, 21, 'PER')]}), ('imps p a coilmeterandbo', {'entities': [(9, 23, 'PER')]}), ('imps p a utib akppaymenti', {'entities': [(14, 25, 'PER')]}), ('tpt test nandinishivraj', {'entities': [(9, 23, 'PER')]}), ('clg newdelighthou maharashtr', {'entities': [(4, 17, 'PER')]}), ('mmt imps kambasitebandra pradippaga k', {'entities': [(25, 35, 'PER')]}), ('maabhagwatifabrics', {'entities': [(0, 18, 'PER')]}), ('ib neft srcby rohanaji augsalary', {'entities': [(14, 22, 'PER')]}), ('toib c pravinkumarparmeshwarfoodingoffshore', {'entities': [(7, 43, 'PER')]}), ('upi p v soniramakant oksbi ramakant', {'entities': [(8, 20, 'PER')]}), ('pos agarwalandchoudhari', {'entities': [(4, 23, 'PER')]}), ('rameshshyamjigothi', {'entities': [(0, 18, 'PER')]}), ('nft ymrenta fdrlh corporatio', {'entities': [(4, 11, 'PER')]}), ('chqpaid micrcts mu ganeshsales', {'entities': [(19, 30, 'PER')]}), ('synctechindianbank', {'entities': [(0, 18, 'PER')]}), ('rtgshdfcr handcraftjewels', {'entities': [(10, 25, 'PER')]}), ('imps p a akpsublimations', {'entities': [(9, 24, 'PER')]}), ('vinodagupta', {'entities': [(0, 11, 'PER')]}), ('chqpaid micrcts mu krishnasales', {'entities': [(19, 31, 'PER')]}), ('imps virendrapratapsingh hdfcbankltd', {'entities': [(5, 24, 'PER')]}), ('upi dr vivekjaywantshi bki lamiya', {'entities': [(7, 22, 'PER')]}), ('toib c skenterprisespayment', {'entities': [(7, 27, 'PER')]}), ('ib neft srcbs fedexexp uptooct bill', {'entities': [(14, 22, 'PER')]}), ('achd ugrocapitalltd np', {'entities': [(5, 19, 'PER')]}), ('atl sectorno bldg no', {'entities': [(4, 12, 'PER')]}), ('stcon bluindiaclothingcompan', {'entities': [(6, 28, 'PER')]}), ('ledgerfoliochg', {'entities': [(0, 14, 'PER')]}), ('totransfer upi dr meesho utib meesho axl collect', {'entities': [(18, 24, 'PER')]}), ('upi dr vinayakstation pytm stationary', {'entities': [(7, 21, 'PER')]}), ('ib neft srcbx ajaybibi julysalary', {'entities': [(14, 22, 'PER')]}), ('chqpaid micrcts mu mahadevtrading', {'entities': [(19, 33, 'PER')]}), ('upi p v paytm kismatalire', {'entities': [(14, 25, 'PER')]}), ('pcd microsoft mumbai', {'entities': [(4, 13, 'PER')]}), ('clg fortuneparadis saraswat', {'entities': [(4, 18, 'PER'), (19, 27, 'PER')]}), ('posambersweetsthanein', {'entities': [(0, 21, 'PER')]}), ('totransfer upi dr hiteshc fdrl bharatpe payt', {'entities': [(18, 25, 'PER')]}), ('wdltfrupi dr mohanp utib hellomohan upi at sbiofficers qrtrsgokuldham', {'entities': [(13, 19, 'PER')]}), ('ib balcoimbsurat', {'entities': [(3, 16, 'PER')]}), ('neftpatankarprachikalpesh srcb r', {'entities': [(4, 25, 'PER')]}), ('chqpaid micrcts mu jaysavalaenterpri', {'entities': [(19, 36, 'PER')]}), ('totransfer upi dr samadhan pytm paytmqr snack', {'entities': [(18, 26, 'PER')]}), ('pos raymondltd raymondltd', {'entities': [(15, 25, 'PER')]}), ('imps vcreatekmobili', {'entities': [(5, 19, 'PER')]}), ('pos visa travelfoodservicesdmumbai mumbai', {'entities': [(9, 34, 'PER')]}), ('toib c priyanshuac kirshadaprilandmay payment', {'entities': [(7, 18, 'PER')]}), ('mb wb creativenkgsbod shamlata', {'entities': [(22, 30, 'PER')]}), ('rtgs mahb maahitechnologies', {'entities': [(10, 27, 'PER')]}), ('ib neft srcbv sagar salarymar', {'entities': [(14, 19, 'PER')]}), ('kumarbrotherspharmapvtltd', {'entities': [(0, 25, 'PER')]}), ('neft mb axmb amahusainandco', {'entities': [(13, 27, 'PER')]}), ('nft fdrlm kutchvagadkhabarpatrikabar', {'entities': [(10, 36, 'PER')]}), ('pos payhotelmalassatarain v o', {'entities': [(4, 25, 'PER')]}), ('ib neft srcbz harshala bonusnov oct', {'entities': [(14, 22, 'PER')]}), ('upi makemytrip makemytrip icici icic dc upi', {'entities': [(4, 14, 'PER')]}), ('clg apoolo saraswat', {'entities': [(4, 10, 'PER')]}), ('rtgs barb dbbhpe jadhavengineeringworks', {'entities': [(17, 39, 'PER')]}), ('inf inft pumppaymentbits lubipumpsadi', {'entities': [(9, 24, 'PER')]}), ('neftin on p molexindiabusinessservice', {'entities': [(12, 37, 'PER')]}), ('chqpaid micrcts mu titupatienterprise', {'entities': [(19, 37, 'PER')]}), ('clg shivling bankof', {'entities': [(4, 12, 'PER')]}), ('toib c vinayacweeklyfoodinglntpune', {'entities': [(7, 12, 'PER')]}), ('ib neft srcbx jivitesh arrearaprtomay', {'entities': [(14, 22, 'PER')]}), ('pos punitwinesmum', {'entities': [(4, 14, 'PER')]}), ('mmt imps bandrasitetechn pradippaga k', {'entities': [(9, 24, 'PER')]}), ('atmwdr ubibhayandereast', {'entities': [(7, 23, 'PER')]}), ('visa refund microsoftindia', {'entities': [(12, 26, 'PER')]}), ('ib neft srcbu chayanpa salaryjan', {'entities': [(14, 22, 'PER')]}), ('amishasahu', {'entities': [(0, 10, 'PER')]}), ('ib neft srcbs gaganjee salaryoct', {'entities': [(14, 22, 'PER')]}), ('wdltfrupi dr skumarr pjsb skumarr upi at sbiofficers qrtrsgokuldham', {'entities': [(13, 20, 'PER')]}), ('ib neft srcbs lokesh bonusfor', {'entities': [(14, 20, 'PER')]}), ('rtgso uvjewelsubinh', {'entities': [(6, 19, 'PER')]}), ('upi aryaa anand aryaa anand okhdfcbank hdfc ticn stipends june', {'entities': [(4, 9, 'PER')]}), ('reliancejiomumbaimhin', {'entities': [(0, 11, 'PER')]}), ('toib c prakashweeklylntpune', {'entities': [(7, 14, 'PER')]}), ('nft bipinlad fdrlh saraswat', {'entities': [(4, 12, 'PER')]}), ('upi arunkumar paytm kkbk na', {'entities': [(4, 13, 'PER')]}), ('toib c grauerandweilpayment', {'entities': [(7, 27, 'PER')]}), ('neftpunbh shreemanikumarjewellers', {'entities': [(10, 33, 'PER')]}), ('owclg converttocurvescreatio', {'entities': [(6, 28, 'PER')]}), ('anuradhatexfab', {'entities': [(0, 14, 'PER')]}), ('vps the raymond gurgaon', {'entities': [(8, 15, 'PER')]}), ('toatm munirsuvratchhayab munir', {'entities': [(6, 24, 'PER')]}), ('mahanagargaslimite', {'entities': [(0, 18, 'PER')]}), ('clg vileparlesande janakalyan', {'entities': [(19, 29, 'PER')]}), ('upi pateljaydeepsuresh pateljaydeep okhdfcbank srcb carpenter', {'entities': [(4, 22, 'PER')]}), ('upi dr yogeshnsuryawan hdf upi', {'entities': [(7, 22, 'PER')]}), ('neftkkbkh arihadiamondjewellerypriv', {'entities': [(10, 35, 'PER')]}), ('nft anilpandey fdrlh canara', {'entities': [(4, 14, 'PER')]}), ('upi pramod upi', {'entities': [(4, 10, 'PER')]}), ('toib c prchakarweekly', {'entities': [(7, 15, 'PER')]}), ('wdltfrupi dr mrharir idib harikrishn for at sbiofficers qrtrsgokuldham', {'entities': [(26, 36, 'PER')]}), ('neft dc dharaconstructiona nozzlebil', {'entities': [(8, 26, 'PER')]}), ('pos anupamstationerypoin anupamstat', {'entities': [(4, 24, 'PER')]}), ('toib c priyanshuacjan laborandstafflntkundalia', {'entities': [(7, 21, 'PER')]}), ('nft moinuddinn fdrlh sbi', {'entities': [(4, 14, 'PER')]}), ('upi sampurnsupermart pay paytm pytm oid', {'entities': [(4, 20, 'PER')]}), ('toib c laxmankurkotiacmotorjaintarikere', {'entities': [(7, 39, 'PER')]}), ('toib c vinayacsiteexpenselntpune', {'entities': [(7, 32, 'PER')]}), ('toib c manjlesabweeklysupradachallakere', {'entities': [(7, 39, 'PER')]}), ('prabhaenterprises', {'entities': [(0, 17, 'PER')]}), ('toib c priyanshusitepujalntkundalia', {'entities': [(7, 35, 'PER')]}), ('tpt payment amardeepsingh', {'entities': [(12, 25, 'PER')]}), ('imps sriramiyer hdfcbankltd', {'entities': [(5, 15, 'PER')]}), ('rtgscnrbr ssjewellersandco', {'entities': [(10, 26, 'PER')]}), ('upi dr ratnakarbhagwa punb books', {'entities': [(7, 21, 'PER')]}), ('upi p m yk okhdfcbank yugeshk', {'entities': [(22, 29, 'PER')]}), ('rtgs barb dbmlun hmenterprises', {'entities': [(17, 30, 'PER')]}), ('toib c epfo epfjune panametricspalisite', {'entities': [(20, 39, 'PER')]}), ('ib neft srcbw nileshan salarymay', {'entities': [(14, 22, 'PER')]}), ('inb ift shaad tparty transfer', {'entities': [(8, 13, 'PER')]}), ('upi upi nileshdhayalkar okicici', {'entities': [(8, 23, 'PER')]}), ('toib c rajeshsinghaltraileradvance', {'entities': [(7, 34, 'PER')]}), ('toib c thakorreductantpvtltdpayment', {'entities': [(7, 35, 'PER')]}), ('upi shankargangbahadur skunwar okicici cnrb upi', {'entities': [(4, 22, 'PER')]}), ('pos dmartnanded pune', {'entities': [(4, 15, 'PER')]}), ('wdltfrupi dr olamoney utib olamoney upi at sbiofficers qrtrsgokuldham', {'entities': [(13, 21, 'PER')]}), ('pratikchouthmal', {'entities': []}), ('ib neft srcby vikas sepsalary', {'entities': [(14, 19, 'PER')]}), ('rupaypos pkwinespanvelmhin', {'entities': [(9, 16, 'PER')]}), ('wthdrl cash nabiahmadshaha', {'entities': []}), ('ib neft srcbv vsawant salarymar', {'entities': [(14, 21, 'PER')]}), ('ib neft srcby pratikch salaryaug', {'entities': [(14, 22, 'PER')]}), ('mmt imps rent jayprakash cnrb', {'entities': [(14, 24, 'PER')]}), ('achd masfinancialservices', {'entities': [(5, 25, 'PER')]}), ('chargesforpord manishaenterprises', {'entities': []}), ('wdltfrupi dr mohdasi yesb q pane at sbiofficers qrtrsgokuldham', {'entities': [(13, 20, 'PER')]}), ('mmt imps payment tronzo kkbk', {'entities': [(17, 23, 'PER')]}), ('kumarbrotherspharmapvt', {'entities': [(0, 22, 'PER')]}), ('pci linkedin singapore', {'entities': [(4, 12, 'PER')]}), ('achdebit tpachbajajfinbfl', {'entities': [(9, 25, 'PER')]}), ('posstxaviershigh thanein', {'entities': [(3, 16, 'PER')]}), ('wdltfrupi dr deepak kkbk deepakchau upi at sbiofficers qrtrsgokuldham', {'entities': [(13, 19, 'PER')]}), ('maharashtraholycrosss', {'entities': [(0, 21, 'PER')]}), ('neft h b commscopeindiapvtltd', {'entities': [(9, 29, 'PER')]}), ('toib c epfo epffeb lntkalisindh', {'entities': [(19, 31, 'PER')]}), ('deposit trf mr rajivramadassusar', {'entities': [(15, 32, 'PER')]}), ('bydebitcard othpos tacosrestaurantsgoa', {'entities': [(19, 38, 'PER')]}), ('toib c dakshtachsmaintenanceapriltosept', {'entities': [(7, 39, 'PER')]}), ('upi dr sapnamanoharlal bki upi', {'entities': [(7, 22, 'PER')]}), ('ib neft srcbs bharatko rocfeesaudit', {'entities': [(23, 35, 'PER')]}), ('posananddhabathanein', {'entities': [(3, 13, 'PER')]}), ('neftsbin krishnaalignercompanyllp', {'entities': [(9, 33, 'PER')]}), ('wdltfrupi dr neerajm yesb nirajsingh upi at sbiofficers qrtrsgokuldham', {'entities': [(13, 20, 'PER'), (26, 36, 'PER')]}), ('kadamriyavishal', {'entities': [(0, 15, 'PER')]}), ('deposit deposit imps unrentradingcomp', {'entities': [(21, 37, 'PER')]}), ('transferupi surajguptau', {'entities': [(12, 23, 'PER')]}), ('imps shaikhjunedshaikhtah ubin', {'entities': [(5, 25, 'PER')]}), ('rtgscr sbin uniqueuhpcinfrallp shreesamarthengineering sbinr', {'entities': [(31, 54, 'PER')]}), ('clg bhagatvillaco punjab', {'entities': [(4, 17, 'PER')]}), ('ftimps ifi manalideepakmehta', {'entities': [(11, 28, 'PER')]}), ('ft cr jaikishandassmalljuteprodpltdkol', {'entities': [(6, 38, 'PER')]}), ('toib c epfo epfmarch lntparwatilis', {'entities': [(21, 34, 'PER')]}), ('chqpaid micrcts mu aparnalogitechpl', {'entities': [(19, 35, 'PER')]}), ('ib neft srcbv kirannan salarymar', {'entities': [(14, 22, 'PER')]}), ('nft fdrlm bajrangparasandcokarb', {'entities': [(10, 31, 'PER')]}), ('vin flipkart in', {'entities': [(4, 12, 'PER')]}), ('mmt imps payment satyamtel e kkbk', {'entities': [(17, 26, 'PER')]}), ('totransfer upi dr prabhula pytm paytmqr gift', {'entities': [(18, 26, 'PER')]}), ('ib neft srcbv sagardil touradvhydera', {'entities': [(14, 22, 'PER')]}), ('nft dnyaneshwar fdrlh sbi', {'entities': [(4, 15, 'PER')]}), ('pcd airtelpaymentsban', {'entities': [(4, 21, 'PER')]}), ('imps in utsavpa', {'entities': [(8, 15, 'PER')]}), ('hdfcbk hdfc jvpd', {'entities': []}), ('achd barb indiabcom nach', {'entities': [(10, 19, 'PER')]}), ('wthdrl cash sunildhondibajadhav', {'entities': [(12, 31, 'PER')]}), ('clg shivlingmember bankof', {'entities': [(4, 18, 'PER')]}), ('chqpaid micrcts mu avgroup', {'entities': [(19, 26, 'PER')]}), ('toatm bharatbankparleeas bharatban', {'entities': [(6, 24, 'PER')]}), ('ib neft srcbs rishabhk reimbofexps', {'entities': [(14, 22, 'PER')]}), ('pca travelnewsse travelnewsservicesikolkattaind dec', {'entities': [(17, 47, 'PER')]}), ('tpt purchasebills clif', {'entities': [(4, 17, 'PER')]}), ('nft yesugandhi fdrlh axisbank', {'entities': [(4, 14, 'PER')]}), ('achdr ugrocapitalltd', {'entities': [(6, 20, 'PER')]}), ('upi dinner q ybl yesbanklt', {'entities': []}), ('upi herald yesb xx grocer', {'entities': [(4, 10, 'PER')]}), ('carehealthinsurance', {'entities': [(0, 19, 'PER')]}), ('clg sameerganpatjoshi canara', {'entities': [(4, 21, 'PER')]}), ('chqpaid micrcts mu siddhitradingcomp', {'entities': [(19, 36, 'PER')]}), ('imps p a icic patchmug', {'entities': []}), ('upi prasath a rooban okhdfcbank sbin sent from paytm', {'entities': [(4, 11, 'PER')]}), ('visa refund microsoft', {'entities': [(12, 21, 'PER')]}), ('chqpaid micrcts mu saikamalenterpris', {'entities': [(19, 36, 'PER')]}), ('imps p a null stateban inetcj', {'entities': []}), ('hamrajinfotechunionbankof', {'entities': [(0, 14, 'PER')]}), ('kqthk uiar khoosca payuamazon', {'entities': [(11, 18, 'PER')]}), ('ib neft srcbs gujaratg ggjs', {'entities': []}), ('ft cr shreesamarthengineering', {'entities': [(6, 29, 'PER')]}), ('gooddayfashion', {'entities': [(0, 14, 'PER')]}), ('nft vinodwairk fdrlh sbi', {'entities': [(4, 14, 'PER')]}), ('wdltfrupi dr amansi sbin paym at sbiofficers qrtrsgokuldham', {'entities': [(13, 19, 'PER')]}), ('nft shivkumarm fdrlh greater', {'entities': [(4, 14, 'PER')]}), ('crajdentalshopee', {'entities': [(0, 16, 'PER')]}), ('imps p a idfb plotterakp', {'entities': [(14, 24, 'PER')]}), ('ib neft srcbv rktours inv', {'entities': [(13, 21, 'PER')]}), ('ib neft srcbv saqib salarymar', {'entities': [(14, 19, 'PER')]}), ('upi cr ujjwal ubin ujwalagai upi', {'entities': [(19, 28, 'PER')]}), ('msshakticomputersstandardc', {'entities': [(0, 26, 'PER')]}), ('rtgsyesbr oropreciousmetals', {'entities': [(10, 27, 'PER')]}), ('upi p v py okicici pintusattan', {'entities': [(19, 30, 'PER')]}), ('toib c kaushalbikejainmohanpura', {'entities': [(7, 31, 'PER')]}), ('toib c wondercement bagppcsatwas', {'entities': [(7, 19, 'PER')]}), ('ib neft srcbu marikuma salaryfeb', {'entities': [(14, 22, 'PER')]}), ('acrescom', {'entities': [(0, 8, 'PER')]}), ('achc samvardhanamotherso', {'entities': [(5, 24, 'PER')]}), ('upi ceciljohnsondmello cjdmello oksbi mdbk fordonationfors', {'entities': [(4, 22, 'PER')]}), ('upi dr shindepradeep tjsb na', {'entities': [(6, 20, 'PER')]}), ('upi rameshkumarsaroj q ybl na flowers', {'entities': [(4, 20, 'PER')]}), ('upi suchitasanjay upi', {'entities': []}), ('wdltfrupi dr pratiks hdfc pandu o upi at sbiofficers qrtrsgokuldham', {'entities': [(13, 20, 'PER')]}), ('topur visa vaangoevel mumbaiin bha ca gen h id ref', {'entities': []}), ('posfitnessfactorythanein', {'entities': [(3, 17, 'PER')]}), ('toecm visa bundlsprivat in bha ca gen h id ref', {'entities': []}), ('ft khantradingcompanycr', {'entities': [(3, 23, 'PER')]}), ('neftplatesandcups idib b idibh pl', {'entities': [(4, 17, 'PER')]}), ('neft dishahar cnrb', {'entities': [(5, 13, 'PER')]}), ('imps al falahsteelsakinaka jsbl xx mater', {'entities': [(8, 26, 'PER')]}), ('upi deepakashokahire deepakkumar dk okhdfcbank barb vilwes', {'entities': [(4, 20, 'PER')]}), ('mbimps ifo cosb cosmosloani', {'entities': []}), ('neftn centrefortechnologyassiss', {'entities': [(6, 31, 'PER')]}), ('topur visa wamanhesonmumbaiin bha ca gen h id ref', {'entities': [(11, 21, 'PER')]}), ('imps bseadministrat icic', {'entities': [(5, 19, 'PER')]}), ('imps p a national iciciban farheen', {'entities': [(27, 34, 'PER')]}), ('mmt imps payment satyamtele kkbk', {'entities': [(17, 27, 'PER')]}), ('ib neft srcbv vmali salaryapr', {'entities': [(14, 19, 'PER')]}), ('atmwdr wsgshirdinagar', {'entities': []}), ('chqpaid micrcts mu balajitraderlinks', {'entities': [(19, 36, 'PER')]}), ('dhanlaxmisilkmills', {'entities': [(0, 18, 'PER')]}), ('upi brijeshganeshvishw vbrijesh okaxis ibkl carpenterbhairav', {'entities': [(4, 22, 'PER')]}), ('achdr kmbldraoperations fdrl stan', {'entities': [(6, 23, 'PER')]}), ('ib neft srcbt atul salarydec', {'entities': [(14, 18, 'PER')]}), ('upi lilawatichemist q ybl yesb yblupi upi', {'entities': [(4, 19, 'PER')]}), ('imps p a icic sample', {'entities': []}), ('nft amarantour fdrlh axisbank', {'entities': [(4, 14, 'PER')]}), ('imps p a atlantic kotakmah ibimpsto', {'entities': []}), ('upiin divyaagrawal okaxis', {'entities': [(6, 18, 'PER')]}), ('ib neft srcbu rohitpat salaryfeb', {'entities': [(14, 22, 'PER')]}), ('ib neft srcbt skillwise in dec', {'entities': []}), ('toib c manjlesabaug laborsupradachallakere', {'entities': [(7, 19, 'PER')]}), ('toib c madhumohanweeklykdspl', {'entities': [(7, 17, 'PER')]}), ('toprajapatisteeltrff', {'entities': [(2, 20, 'PER')]}), ('ib neft srcbx chayanpa julysalary', {'entities': [(14, 22, 'PER')]}), ('keshavtradingcompany', {'entities': [(0, 20, 'PER')]}), ('chqpaid micrcts mu kotakmulticapfund', {'entities': []}), ('toib c orientcementpayment', {'entities': [(7, 19, 'PER')]}), ('ib partshyamballudhia', {'entities': [(3, 21, 'PER')]}), ('mbimps ifo hdfc rakeshprk', {'entities': [(16, 25, 'PER')]}), ('atl bharatbankbandrawest', {'entities': [(4, 15, 'PER')]}), ('gohilpoonamshambhubhai', {'entities': [(0, 22, 'PER')]}), ('toib c prabhakarweeklylntparwati', {'entities': [(7, 16, 'PER')]}), ('chqpaid micrcts mu rajendradamodar', {'entities': [(19, 34, 'PER')]}), ('microknitsfabrics', {'entities': [(0, 17, 'PER')]}), ('toib c nayaktraderspayment', {'entities': [(7, 19, 'PER')]}), ('chqpaid micrcts mu balasahebaapparaoga', {'entities': [(19, 38, 'PER')]}), ('upi p v pawans okhdfcbank pawans', {'entities': [(8, 14, 'PER')]}), ('ib neft srcbz pallavip bonusnov oct', {'entities': [(14, 22, 'PER')]}), ('upi p v sanjayv okaxis sanjayhar', {'entities': []}), ('wdltfrupi dr getepay icic getepay vs upi at sbiofficers qrtrsgokuldham', {'entities': []}), ('nft iciciprudentia n hdfcbank', {'entities': []}), ('keshavfashion', {'entities': [(0, 13, 'PER')]}), ('heritagemotorsmumb', {'entities': [(0, 14, 'PER')]}), ('upi dr shree pytm paytmqrf milk', {'entities': []}), ('wdltfrupi dr rajsales hdfc bil at sbiofficers qrtrsgokuldham', {'entities': [(13, 21, 'PER')]}), ('nft rupalitrav fdrlh unionbank', {'entities': [(4, 14, 'PER')]}), ('toib c pravinkumaracparmeshwarpayment', {'entities': [(7, 30, 'PER')]}), ('nft jivdaya n hdfcbank', {'entities': [(4, 11, 'PER')]}), ('inf inft forofficerent prashanticic', {'entities': [(23, 31, 'PER')]}), ('nft khushivino fdrlh idfc', {'entities': [(4, 14, 'PER')]}), ('rtgshdfcr redingtonindialtd', {'entities': []}), ('ach ucba piramalcapitalandhou', {'entities': [(9, 23, 'PER')]}), ('toecm visa amazongrocery in bha ca gen h id ref', {'entities': [(11, 24, 'PER')]}), ('owclg supremesindustries', {'entities': [(6, 24, 'PER')]}), ('nft sbshealthcare dc icicibank', {'entities': [(4, 17, 'PER')]}), ('upi dr keshav mdcb ashok shu upi', {'entities': [(7, 13, 'PER')]}), ('nft spenterpri fdrlh central', {'entities': [(4, 14, 'PER')]}), ('toib c prabhaenterprisespayment', {'entities': [(7, 24, 'PER')]}), ('ib neft srcbu prajapat salaryfeb', {'entities': [(14, 22, 'PER')]}), ('neftn caratcouturefinejewellery', {'entities': [(6, 31, 'PER')]}), ('rtgsjakar patelmachinerypropk', {'entities': [(10, 29, 'PER')]}), ('kinaracapitalpriva', {'entities': [(0, 18, 'PER')]}), ('trf adityasteel trf', {'entities': [(4, 15, 'PER')]}), ('inrtgs punbr jakirhussainclosingbalancetotalnumberoftransactionsturnover', {'entities': [(12, 25, 'PER')]}), ('chqpaid micrcts mu balsahebgarje', {'entities': [(19, 32, 'PER')]}), ('toib c tecnowireproductspayment', {'entities': [(7, 24, 'PER')]}), ('clg shantikunjcoop mumbai', {'entities': [(4, 18, 'PER')]}), ('toib c laxmankurkotiacweeklyfoodingjaintarikere', {'entities': [(7, 20, 'PER')]}), ('mmt imps goregaondripins greendropi k', {'entities': []}), ('nft mushtaknij fdrlh hdfcbank', {'entities': [(4, 14, 'PER')]}), ('ib neft srcbv logistics inv', {'entities': [(13, 23, 'PER')]}), ('rupaypos saiservicecentremumbaimhin', {'entities': [(9, 25, 'PER')]}), ('imps p a pendinggst', {'entities': []}), ('upi p v bhanushalis okaxis kasturi', {'entities': [(8, 19, 'PER')]}), ('atl apoorvaco op', {'entities': [(4, 13, 'PER')]}), ('ib fd premat principal', {'entities': [(6, 12, 'PER')]}), ('pos rajtime raj', {'entities': [(12, 15, 'PER')]}), ('upi mrwakilkhan upi', {'entities': [(4, 15, 'PER')]}), ('darshanabalushinde', {'entities': [(0, 18, 'PER')]}), ('chqpaid self byyogeshuttamdhormare sillod', {'entities': [(15, 34, 'PER')]}), ('toib c laxmankukotiactransportpayment', {'entities': [(7, 19, 'PER')]}), ('chqpaid micrcts mu saienterprises', {'entities': [(19, 33, 'PER')]}), ('toatm jvpdschvileparle jvpds', {'entities': []}), ('toib c mehtakisandieselpaymentoffshore', {'entities': [(7, 23, 'PER')]}), ('upi megha kamal meghakamal okhdfcbank hdfc shagan', {'entities': [(4, 15, 'PER')]}), ('upi baliram babupunjara okicici mahg upi', {'entities': [(4, 11, 'PER')]}), ('harshanisarees', {'entities': [(0, 14, 'PER')]}), ('deposit deptrf rijwankhandaulatkhanpath', {'entities': [(15, 39, 'PER')]}), ('toib c rajindaraugandsep messandroomcharges', {'entities': [(7, 24, 'PER')]}), ('ib neft srcbz durgapra bonusnov oct', {'entities': []}), ('vrfabricshuf', {'entities': []}), ('totransfer upi dr priyapr barb patil priy udaip', {'entities': [(18, 25, 'PER')]}), ('upi tummadineshrajesh dinu t okaxis jsbl tr', {'entities': [(4, 21, 'PER')]}), ('clg vishwaspatil bankofma', {'entities': [(4, 16, 'PER')]}), ('mayurmshah', {'entities': [(0, 10, 'PER')]}), ('tpt internal lalitagarwalhuf', {'entities': [(13, 28, 'PER')]}), ('chqpaid self widrawalbypandharinatheknathdhor', {'entities': [(23, 45, 'PER')]}), ('upiab cr mdasiru airp ibl', {'entities': [(9, 16, 'PER')]}), ('toib c sainathfilingdieselpayment', {'entities': [(7, 26, 'PER')]}), ('ib neft srcbt gafgloba in', {'entities': [(14, 22, 'PER')]}), ('ib neft srcbv kunal salaryapr', {'entities': [(14, 19, 'PER')]}), ('ib neft srcbw chander jaipurtouradv', {'entities': [(22, 35, 'PER')]}), ('withdrawal achdebit epimoneyprivatelim bdbl', {'entities': [(20, 38, 'PER')]}), ('cr forneftsbin piramalcapita', {'entities': [(15, 28, 'PER')]}), ('withdrawal reversalwdl imps prabhaka', {'entities': [(28, 36, 'PER')]}), ('ib neft srcbx yshewale junesalary', {'entities': [(14, 22, 'PER')]}), ('adanielectricitymumbai', {'entities': [(0, 16, 'PER')]}), ('chqpaid micrcts mu rushienterprises', {'entities': [(19, 35, 'PER')]}), ('ib neft srcbv sanjaynag feespay', {'entities': [(13, 23, 'PER')]}), ('neft mb axmb mtechengineeringworks', {'entities': [(13, 34, 'PER')]}), ('byneftid frommschandrikaassociates', {'entities': [(13, 34, 'PER')]}), ('neftmahbh heenasteeltraders', {'entities': [(10, 27, 'PER')]}), ('neftn finecutdesignllp', {'entities': [(6, 22, 'PER')]}), ('pos deepwinesmumb', {'entities': [(4, 13, 'PER')]}), ('ib neft srcbs sachinch oct salary', {'entities': [(14, 22, 'PER')]}), ('upi sanjaripanshop paytmqr djjlz vykf paytm pytm upi', {'entities': [(4, 18, 'PER')]}), ('ib neft srcbu arvindk salaryfeb', {'entities': [(14, 21, 'PER')]}), ('ib neft srcbu sejalsinh salaryfeb', {'entities': [(14, 23, 'PER')]}), ('ib neft srcbt navneetm fullfinalsettle', {'entities': [(14, 22, 'PER')]}), ('mmt imps kirloskarpumpbi shethenter h', {'entities': [(9, 24, 'PER')]}), ('neft n deltamachinerystores', {'entities': [(7, 27, 'PER')]}), ('ib neft srcbv starheal persaccidentins', {'entities': [(14, 38, 'PER')]}), ('ib neft srcby sagar touradvsurat', {'entities': [(14, 19, 'PER')]}), ('stcon anilmasterconveyanceex', {'entities': [(6, 28, 'PER')]}), ('rtgs icicr thehindmulticommodities c ndcros icic', {'entities': [(11, 34, 'PER')]}), ('ib neft srcbu vikas salaryjan', {'entities': [(14, 19, 'PER')]}), ('ib neft srcbx kirannan julysalary', {'entities': [(14, 22, 'PER')]}), ('neftcr ibkl pinnaclelearningllp sujayabanerjee ibkl', {'entities': [(32, 46, 'PER')]}), ('mumbai lalbaugupi wellnessforevermedicareprivate', {'entities': [(18, 41, 'PER')]}), ('neftbarbt maruthiraoaglave', {'entities': [(10, 26, 'PER')]}), ('inf inft vighneshvemp', {'entities': [(9, 17, 'PER')]}), ('wthdrl cash chathetejravsantosh', {'entities': [(12, 31, 'PER')]}), ('upiin sayyedshaf okicici u', {'entities': [(6, 16, 'PER')]}), ('wdltfrupi dr ritesha kkbk upi at sbiofficers qrtrsgokuldham', {'entities': [(13, 20, 'PER')]}), ('rtgs idfb manishaenterprises', {'entities': [(10, 28, 'PER')]}), ('ib neft srcbt naresh advmumbai', {'entities': [(14, 20, 'PER')]}), ('neftfreyavincreation ubin', {'entities': [(4, 20, 'PER')]}), ('wdltfrupi dr laxmid sbin paym at sbiofficers qrtrsgokuldham', {'entities': [(13, 19, 'PER')]}), ('surat ringroadchrg imps omshreec sdcb xx nore', {'entities': [(24, 32, 'PER')]}), ('totransfer upi dr sameerm sbin ksameer papa', {'entities': [(18, 25, 'PER')]}), ('rupaypos bharatpetroleumcorpobhiwandimhin', {'entities': [(9, 29, 'PER')]}), ('imps vijayramcharanrama icicibanklimi', {'entities': [(5, 23, 'PER')]}), ('atmwdr ramnagarbhayendareas', {'entities': [(7, 27, 'PER')]}), ('wdltfrupi dr sanaahm sbin upi at sbiofficers qrtrsgokuldham', {'entities': [(13, 20, 'PER')]}), ('neft jaymahal kkbk', {'entities': [(5, 13, 'PER')]}), ('upi altafhussain altafshaikh okicici kkbk loa', {'entities': [(4, 16, 'PER')]}), ('mmt imps tmhhwskl bh amazonsel hsbcbank', {'entities': [(21, 27, 'PER')]}), ('ib balhyderabadsonaje', {'entities': [(3, 21, 'PER')]}), ('wthdrl cash kautikshankarbangle', {'entities': [(12, 31, 'PER')]}), ('withdrawal wdl imps dineshpmahakal', {'entities': [(20, 34, 'PER')]}), ('imps ratanjewels', {'entities': [(5, 16, 'PER')]}), ('ft cr pransaassociates', {'entities': [(6, 22, 'PER')]}), ('imps mob fundtrf rathanjewellers transfertopadmavativentures', {'entities': [(17, 32, 'PER')]}), ('toib c sachisteelsolutionspvtltdfinalpayment', {'entities': [(7, 32, 'PER')]}), ('ib neft srcbw santosh advance', {'entities': [(14, 21, 'PER')]}), ('ib balwestbengal', {'entities': [(3, 10, 'PER')]}), ('ib neft srcby lokesh sepsalary', {'entities': [(14, 20, 'PER')]}), ('ib neft srcbs durgapras localtouradv', {'entities': [(14, 23, 'PER')]}), ('ib combsuratmachil', {'entities': [(3, 18, 'PER')]}), ('clg anirudhi dservicesplt bankofindia', {'entities': [(4, 12, 'PER')]}), ('wdltfrupi dr ashokkum yesb q magg at sbiofficers qrtrsgokuldham', {'entities': [(13, 21, 'PER')]}), ('tpt b sargamneharanade nehaprasadranade', {'entities': [(6, 22, 'PER')]}), ('ib neft srcby swapnil sepsalary', {'entities': [(14, 21, 'PER')]}), ('toib c manjlesabweeklyfoodingsupradaconstruction', {'entities': [(7, 16, 'PER')]}), ('neftn mspujajewelcraftsprivat', {'entities': [(6, 29, 'PER')]}), ('neftvara bscadcam', {'entities': [(9, 17, 'PER')]}), ('ib neft srcbu najimuddi touradvgoaahm', {'entities': [(14, 23, 'PER')]}), ('ib neft srcbw miteshn touradvhyderbad', {'entities': [(14, 21, 'PER')]}), ('toib c sundarservicedieselpaymentjaintarikere', {'entities': [(7, 26, 'PER')]}), ('ib neft srcbs jivitesh bonusfor', {'entities': [(14, 22, 'PER')]}), ('pos zeenovelties zee', {'entities': [(4, 16, 'PER')]}), ('upi budharamshivaramma budharammalee ibl utib paymentfrom', {'entities': [(4, 22, 'PER')]}), ('toib c nayaktraderssandpaymenttatabanda', {'entities': [(7, 19, 'PER')]}), ('ib neft srcby kavyapar differentfnf', {'entities': [(14, 22, 'PER')]}), ('clg maadurgacasting', {'entities': [(4, 19, 'PER')]}), ('shreekrishnadigitalma', {'entities': [(0, 21, 'PER')]}), ('wdltfrupi dr amazons hdfc amazonsell upi at sbiofficers qrtrsgokuldham', {'entities': [(12, 20, 'PER')]}), ('wdltfrupi dr krishna utib upi at sbiofficers qrtrsgokuldham', {'entities': [(13, 20, 'PER')]}), ('ibneft icic avinashcargopvtltd', {'entities': [(12, 30, 'PER')]}), ('ib neft srcbx swapnil junesalary', {'entities': [(14, 21, 'PER')]}), ('upiin arpitagupta okicici', {'entities': [(6, 17, 'PER')]}), ('neft barbf urbanlandscapespvtltd', {'entities': [(11, 32, 'PER')]}), ('nft shreeshtie fdrlh bankofin', {'entities': [(4, 14, 'PER')]}), ('ib neft srcbv vikas salarymar', {'entities': [(14, 19, 'PER')]}), ('ib neft srcbx sagar julysalary', {'entities': [(14, 19, 'PER')]}), ('chqpaid micrcts mu maxenterprises', {'entities': [(19, 33, 'PER')]}), ('toib c vinayaclaborfeb', {'entities': [(7, 12, 'PER')]}), ('chqpaid micrcts mu nimaijoshi', {'entities': [(19, 29, 'PER')]}), ('upi p v premkyadav okaxis premkate', {'entities': [(8, 18, 'PER')]}), ('wdltfrupi dr saraswat yesb q upi at sbiofficers qrtrsgokuldham', {'entities': [(13, 21, 'PER')]}), ('wdltfrupi dr suryoday hdfc suryoday s whol at sbiofficers qrtrsgokuldham', {'entities': [(13, 21, 'PER')]}), ('tfr santoshbabajishelar', {'entities': [(4, 23, 'PER')]}), ('toib c eliteengineeringservicespayment', {'entities': [(7, 31, 'PER')]}), ('ib neft srcbt someswar blorerentdec', {'entities': [(14, 22, 'PER')]}), ('toib c epfo epfapril lntkalisindh', {'entities': [(21, 33, 'PER')]}), ('posalburaakmulticuisinthanein', {'entities': [(3, 22, 'PER')]}), ('toib c durgeshbuildingmaterialcementpayment', {'entities': [(7, 36, 'PER')]}), ('ib neft srcby prashant salarysep', {'entities': [(14, 22, 'PER')]}), ('upi pay arvindchandrakant paytmpaym', {'entities': [(8, 25, 'PER')]}), ('ach ucba finindianclearing', {'entities': [(9, 26, 'PER')]}), ('pcd swiggy bengaluru', {'entities': [(4, 10, 'PER')]}), ('chqpaid micrcts mu sandeshishwarsury', {'entities': [(19, 36, 'PER')]}), ('priteshvirambhaichauha', {'entities': [(0, 22, 'PER')]}), ('pca swiggy ind dec', {'entities': [(4, 10, 'PER')]}), ('ib neft srcbt lakshmiv inv bal', {'entities': [(14, 22, 'PER')]}), ('ib neft srcbw vsawant fnf', {'entities': [(14, 21, 'PER')]}), ('ib neft srcbv sudarshan salaryapr', {'entities': [(14, 23, 'PER')]}), ('ib neft srcbs chetanbh bonusfor', {'entities': [(14, 22, 'PER')]}), ('ib neft srcby rakeshku salaryaug', {'entities': [(14, 22, 'PER')]}), ('inb ift spentashipping logisticspvtltd tpart', {'entities': [(23, 38, 'PER')]}), ('inf neft mahb hdpematerialord', {'entities': [(14, 29, 'PER')]}), ('byrtgsid from shyamconstruction', {'entities': [(14, 31, 'PER')]}), ('ib neft srcbz lokesh bonusnov oct', {'entities': [(14, 20, 'PER')]}), ('ib neft srcby rupal sepsalary', {'entities': [(14, 19, 'PER')]}), ('totransfer upi dr anantay pytm paytmqr med', {'entities': [(18, 25, 'PER')]}), ('ib neft srcbw veena delhirentjun', {'entities': [(14, 19, 'PER')]}), ('toib c prabhakarweeklyfoodinglntparwati', {'entities': [(6, 16, 'PER')]}), ('rtgskkbkr ratanjewels', {'entities': [(10, 21, 'PER')]}), ('cr forneft dckeshaventerprises', {'entities': [(11, 30, 'PER')]}), ('neftrtnpisp pavilionsandinteriors', {'entities': [(12, 33, 'PER')]}), ('nft ashishdili fdrlh hdfcbank', {'entities': [(4, 14, 'PER')]}), ('pos kaustabhchemist thane', {'entities': [(4, 19, 'PER')]}), ('deposittransferinttrffrm to transferfrom bhumanikhilvashi nikhilsvashifd', {'entities': [(41, 57, 'PER')]}), ('atl b sparitoshjvpds', {'entities': [(6, 20, 'PER')]}), ('rtgskkbkr jalaramdigitalcadca', {'entities': [(9, 29, 'PER')]}), ('uttamsarees', {'entities': [(0, 11, 'PER')]}), ('thinpctechnologyprivatehdfc', {'entities': [(0, 27, 'PER')]}), ('mmt imps travelexpensess prashantgh h', {'entities': [(25, 33, 'PER')]}), ('rtgs sk utibr gajanandtradingcom yesbank', {'entities': [(14, 22, 'PER')]}), ('ib neft srcbw sudarshan salarymay', {'entities': [(14, 23, 'PER')]}), ('toib c shayamconstruction', {'entities': [(7, 25, 'PER')]}), ('pos shailajacatere', {'entities': [(4, 18, 'PER')]}), ('nach pnbhousingfinanceltd nhl tha', {'entities': [(5, 25, 'PER')]}), ('chqpaid micrcts mu mantridistribution', {'entities': [(19, 37, 'PER')]}), ('rtg jigneshsbi', {'entities': [(4, 11, 'PER')]}), ('rtgskkbkr shreejijewelleryman', {'entities': [(10, 29, 'PER')]}), ('achd lichousingfinanceltd', {'entities': [(5, 25, 'PER')]}), ('tpt cardbill sumanbudharammalee', {'entities': [(13, 31, 'PER')]}), ('neft sbin kumarpneumatics attn inb', {'entities': [(10, 25, 'PER')]}), ('neftin neft return bdblh dnyaneshwarr', {'entities': [(25, 37, 'PER')]}), ('neft n akshatenterprise rv', {'entities': [(7, 23, 'PER')]}), ('neftindbn saveethadentalcollegeand', {'entities': [(10, 34, 'PER')]}), ('cr forneftp healthcarellp', {'entities': [(12, 25, 'PER')]}), ('neftsbin marupudiradhika', {'entities': [(9, 24, 'PER')]}), ('cr forneft dcaecelectricals ne', {'entities': [(11, 27, 'PER')]}), ('ib neft srcbu lokesh salaryjan', {'entities': [(14, 20, 'PER')]}), ('toneft sbin prateekkumarg id', {'entities': [(12, 25, 'PER')]}), ('neft idfbh shahmanilal bkid uniform', {'entities': [(11, 22, 'PER')]}), ('neftaxmb chandrasekhardutta', {'entities': [(9, 27, 'PER')]}), ('neft barbs muffadalenterprise', {'entities': [(11, 29, 'PER')]}), ('neftrtnbarbi nirajakannaiahmummadi', {'entities': [(13, 34, 'PER')]}), ('neftdr idib m vinayakkashiramyeram netbank mum n conveyancecharges', {'entities': [(14, 34, 'PER')]}), ('neft ioban patharenursery ref', {'entities': [(11, 25, 'PER')]}), ('neftsunb shreeji dprinting', {'entities': [(9, 16, 'PER')]}), ('neftjayeshpradeepbauskarjayesh cnrb jsbl', {'entities': [(4, 30, 'PER')]}), ('neftyashsampat hdfc n yashsampvasaivikassahakaribankltd scheduledbank pageno statementofaccountprintedon', {'entities': [(4, 14, 'PER')]}), ('neftn hindustanpencilspvt', {'entities': [(6, 25, 'PER')]}), ('nefto innovativewebmakers', {'entities': [(6, 25, 'PER')]}), ('neftkrimson hdfc n krimsoncokr', {'entities': [(19, 30, 'PER')]}), ('neft mb axmb visionenterprises', {'entities': [(13, 30, 'PER')]}), ('ib neft srcbu chetanbh salaryfeb', {'entities': [(14, 22, 'PER')]}), ('neft p metroindustries farheeneng', {'entities': [(7, 22, 'PER')]}), ('neftbarby sonajewellers', {'entities': [(10, 23, 'PER')]}), ('ib neft srcbw chander salarymay', {'entities': [(14, 21, 'PER')]}), ('dr neftvallabhiprints kkbk', {'entities': [(7, 21, 'PER')]}), ('neftn vishwadevtechnosolutionsl', {'entities': [(6, 31, 'PER')]}), ('neftkishormadhukarchitnis icic sf hs', {'entities': [(4, 25, 'PER')]})]\n"
          ]
        }
      ]
    },
    {
      "cell_type": "code",
      "source": [
        "# 6.1. Model Training - Model Training\n",
        "\n",
        "# Load a blank spaCy model\n",
        "nlp = spacy.blank(\"en\")\n",
        "\n",
        "# Create the NER component\n",
        "if \"ner\" not in nlp.pipe_names:\n",
        "    ner = nlp.add_pipe(\"ner\")\n",
        "else:\n",
        "    ner = nlp.get_pipe(\"ner\")\n",
        "\n",
        "# Add labels to the NER component\n",
        "for _, annotations in TRAINING_DATA:\n",
        "    for ent in annotations.get(\"entities\"):\n",
        "        ner.add_label(ent[2])\n",
        "\n",
        "# Disable other pipeline components during training\n",
        "other_pipes = [pipe for pipe in nlp.pipe_names if pipe != \"ner\"]\n",
        "with nlp.disable_pipes(*other_pipes):\n",
        "    optimizer = nlp.begin_training()\n",
        "\n",
        "    # Train for 30 iterations\n",
        "    for iteration in range(30):\n",
        "        print(f\"Starting iteration {iteration}\")\n",
        "        losses = {}\n",
        "        for text, annotations in TRAINING_DATA:\n",
        "            doc = nlp.make_doc(text)\n",
        "            example = Example.from_dict(doc, annotations)\n",
        "            nlp.update([example], drop=0.3, losses=losses)\n",
        "        print(f\"Losses at iteration {iteration}: {losses}\")\n",
        "\n",
        "# Save the trained model\n",
        "output_dir = \"Trained_NER_Model\"\n",
        "nlp.to_disk(output_dir)\n",
        "print(f\"Model saved to {output_dir}\")"
      ],
      "metadata": {
        "id": "2PkbfJo86C8C",
        "colab": {
          "base_uri": "https://localhost:8080/"
        },
        "outputId": "3e8549fb-09d9-48bb-919d-4c6039604b62"
      },
      "execution_count": null,
      "outputs": [
        {
          "output_type": "stream",
          "name": "stdout",
          "text": [
            "Starting iteration 0\n"
          ]
        },
        {
          "output_type": "stream",
          "name": "stderr",
          "text": [
            "/usr/local/lib/python3.10/dist-packages/spacy/training/iob_utils.py:149: UserWarning: [W030] Some entities could not be aligned in the text \"imps p a hdfc akppayment\" with entities \"[(13, 24, 'PER')]\". Use `spacy.training.offsets_to_biluo_tags(nlp.make_doc(text), entities)` to check the alignment. Misaligned entities ('-') will be ignored during training.\n",
            "  warnings.warn(\n",
            "/usr/local/lib/python3.10/dist-packages/spacy/training/iob_utils.py:149: UserWarning: [W030] Some entities could not be aligned in the text \"atl centralavenuepowaim\" with entities \"[(4, 17, 'PER')]\". Use `spacy.training.offsets_to_biluo_tags(nlp.make_doc(text), entities)` to check the alignment. Misaligned entities ('-') will be ignored during training.\n",
            "  warnings.warn(\n",
            "/usr/local/lib/python3.10/dist-packages/spacy/training/iob_utils.py:149: UserWarning: [W030] Some entities could not be aligned in the text \"totransfer upi dr mohdkal ubin shaikhk uber\" with entities \"[(18, 25, 'PER'), (30, 38, 'PER')]\". Use `spacy.training.offsets_to_biluo_tags(nlp.make_doc(text), entities)` to check the alignment. Misaligned entities ('-') will be ignored during training.\n",
            "  warnings.warn(\n",
            "/usr/local/lib/python3.10/dist-packages/spacy/training/iob_utils.py:149: UserWarning: [W030] Some entities could not be aligned in the text \"neft kmmfbrokerage kkbkh\" with entities \"[(4, 18, 'PER')]\". Use `spacy.training.offsets_to_biluo_tags(nlp.make_doc(text), entities)` to check the alignment. Misaligned entities ('-') will be ignored during training.\n",
            "  warnings.warn(\n",
            "/usr/local/lib/python3.10/dist-packages/spacy/training/iob_utils.py:149: UserWarning: [W030] Some entities could not be aligned in the text \"megamaninfosyshdfcbankltd\" with entities \"[(0, 7, 'PER')]\". Use `spacy.training.offsets_to_biluo_tags(nlp.make_doc(text), entities)` to check the alignment. Misaligned entities ('-') will be ignored during training.\n",
            "  warnings.warn(\n",
            "/usr/local/lib/python3.10/dist-packages/spacy/training/iob_utils.py:149: UserWarning: [W030] Some entities could not be aligned in the text \"hardwareconceptsalaryconveyancemar\" with entities \"[(0, 15, 'PER')]\". Use `spacy.training.offsets_to_biluo_tags(nlp.make_doc(text), entities)` to check the alignment. Misaligned entities ('-') will be ignored during training.\n",
            "  warnings.warn(\n",
            "/usr/local/lib/python3.10/dist-packages/spacy/training/iob_utils.py:149: UserWarning: [W030] Some entities could not be aligned in the text \"toib c anandsawalkarweeklylntkalisindh\" with entities \"[(7, 20, 'PER')]\". Use `spacy.training.offsets_to_biluo_tags(nlp.make_doc(text), entities)` to check the alignment. Misaligned entities ('-') will be ignored during training.\n",
            "  warnings.warn(\n",
            "/usr/local/lib/python3.10/dist-packages/spacy/training/iob_utils.py:149: UserWarning: [W030] Some entities could not be aligned in the text \"toecm visa amazonprivabangalorein bha ca gen h id ...\" with entities \"[(11, 17, 'PER')]\". Use `spacy.training.offsets_to_biluo_tags(nlp.make_doc(text), entities)` to check the alignment. Misaligned entities ('-') will be ignored during training.\n",
            "  warnings.warn(\n",
            "/usr/local/lib/python3.10/dist-packages/spacy/training/iob_utils.py:149: UserWarning: [W030] Some entities could not be aligned in the text \"toib c irtanbhaibariyaweeklylntkundalia\" with entities \"[(7, 22, 'PER')]\". Use `spacy.training.offsets_to_biluo_tags(nlp.make_doc(text), entities)` to check the alignment. Misaligned entities ('-') will be ignored during training.\n",
            "  warnings.warn(\n",
            "/usr/local/lib/python3.10/dist-packages/spacy/training/iob_utils.py:149: UserWarning: [W030] Some entities could not be aligned in the text \"pcd wwwswiggycom\" with entities \"[(7, 13, 'PER')]\". Use `spacy.training.offsets_to_biluo_tags(nlp.make_doc(text), entities)` to check the alignment. Misaligned entities ('-') will be ignored during training.\n",
            "  warnings.warn(\n",
            "/usr/local/lib/python3.10/dist-packages/spacy/training/iob_utils.py:149: UserWarning: [W030] Some entities could not be aligned in the text \"toib c bindaldeveloperspaymentlntparwati\" with entities \"[(7, 23, 'PER')]\". Use `spacy.training.offsets_to_biluo_tags(nlp.make_doc(text), entities)` to check the alignment. Misaligned entities ('-') will be ignored during training.\n",
            "  warnings.warn(\n",
            "/usr/local/lib/python3.10/dist-packages/spacy/training/iob_utils.py:149: UserWarning: [W030] Some entities could not be aligned in the text \"pos shreepathologythanemhin\" with entities \"[(4, 18, 'PER')]\". Use `spacy.training.offsets_to_biluo_tags(nlp.make_doc(text), entities)` to check the alignment. Misaligned entities ('-') will be ignored during training.\n",
            "  warnings.warn(\n",
            "/usr/local/lib/python3.10/dist-packages/spacy/training/iob_utils.py:149: UserWarning: [W030] Some entities could not be aligned in the text \"rupaypos sliverleafhotelspvtahmedabadgjin\" with entities \"[(9, 28, 'PER')]\". Use `spacy.training.offsets_to_biluo_tags(nlp.make_doc(text), entities)` to check the alignment. Misaligned entities ('-') will be ignored during training.\n",
            "  warnings.warn(\n",
            "/usr/local/lib/python3.10/dist-packages/spacy/training/iob_utils.py:149: UserWarning: [W030] Some entities could not be aligned in the text \"inf inft prashanticici\" with entities \"[(9, 17, 'PER')]\". Use `spacy.training.offsets_to_biluo_tags(nlp.make_doc(text), entities)` to check the alignment. Misaligned entities ('-') will be ignored during training.\n",
            "  warnings.warn(\n",
            "/usr/local/lib/python3.10/dist-packages/spacy/training/iob_utils.py:149: UserWarning: [W030] Some entities could not be aligned in the text \"neftpatankarprachikalpesh srcb r\" with entities \"[(4, 25, 'PER')]\". Use `spacy.training.offsets_to_biluo_tags(nlp.make_doc(text), entities)` to check the alignment. Misaligned entities ('-') will be ignored during training.\n",
            "  warnings.warn(\n",
            "/usr/local/lib/python3.10/dist-packages/spacy/training/iob_utils.py:149: UserWarning: [W030] Some entities could not be aligned in the text \"toib c vinayacweeklyfoodinglntpune\" with entities \"[(7, 12, 'PER')]\". Use `spacy.training.offsets_to_biluo_tags(nlp.make_doc(text), entities)` to check the alignment. Misaligned entities ('-') will be ignored during training.\n",
            "  warnings.warn(\n",
            "/usr/local/lib/python3.10/dist-packages/spacy/training/iob_utils.py:149: UserWarning: [W030] Some entities could not be aligned in the text \"pos punitwinesmum\" with entities \"[(4, 14, 'PER')]\". Use `spacy.training.offsets_to_biluo_tags(nlp.make_doc(text), entities)` to check the alignment. Misaligned entities ('-') will be ignored during training.\n",
            "  warnings.warn(\n",
            "/usr/local/lib/python3.10/dist-packages/spacy/training/iob_utils.py:149: UserWarning: [W030] Some entities could not be aligned in the text \"reliancejiomumbaimhin\" with entities \"[(0, 11, 'PER')]\". Use `spacy.training.offsets_to_biluo_tags(nlp.make_doc(text), entities)` to check the alignment. Misaligned entities ('-') will be ignored during training.\n",
            "  warnings.warn(\n",
            "/usr/local/lib/python3.10/dist-packages/spacy/training/iob_utils.py:149: UserWarning: [W030] Some entities could not be aligned in the text \"toib c prakashweeklylntpune\" with entities \"[(7, 14, 'PER')]\". Use `spacy.training.offsets_to_biluo_tags(nlp.make_doc(text), entities)` to check the alignment. Misaligned entities ('-') will be ignored during training.\n",
            "  warnings.warn(\n",
            "/usr/local/lib/python3.10/dist-packages/spacy/training/iob_utils.py:149: UserWarning: [W030] Some entities could not be aligned in the text \"toib c prchakarweekly\" with entities \"[(7, 15, 'PER')]\". Use `spacy.training.offsets_to_biluo_tags(nlp.make_doc(text), entities)` to check the alignment. Misaligned entities ('-') will be ignored during training.\n",
            "  warnings.warn(\n",
            "/usr/local/lib/python3.10/dist-packages/spacy/training/iob_utils.py:149: UserWarning: [W030] Some entities could not be aligned in the text \"rupaypos pkwinespanvelmhin\" with entities \"[(9, 16, 'PER')]\". Use `spacy.training.offsets_to_biluo_tags(nlp.make_doc(text), entities)` to check the alignment. Misaligned entities ('-') will be ignored during training.\n",
            "  warnings.warn(\n",
            "/usr/local/lib/python3.10/dist-packages/spacy/training/iob_utils.py:149: UserWarning: [W030] Some entities could not be aligned in the text \"posstxaviershigh thanein\" with entities \"[(3, 16, 'PER')]\". Use `spacy.training.offsets_to_biluo_tags(nlp.make_doc(text), entities)` to check the alignment. Misaligned entities ('-') will be ignored during training.\n",
            "  warnings.warn(\n",
            "/usr/local/lib/python3.10/dist-packages/spacy/training/iob_utils.py:149: UserWarning: [W030] Some entities could not be aligned in the text \"posananddhabathanein\" with entities \"[(3, 13, 'PER')]\". Use `spacy.training.offsets_to_biluo_tags(nlp.make_doc(text), entities)` to check the alignment. Misaligned entities ('-') will be ignored during training.\n",
            "  warnings.warn(\n",
            "/usr/local/lib/python3.10/dist-packages/spacy/training/iob_utils.py:149: UserWarning: [W030] Some entities could not be aligned in the text \"hamrajinfotechunionbankof\" with entities \"[(0, 14, 'PER')]\". Use `spacy.training.offsets_to_biluo_tags(nlp.make_doc(text), entities)` to check the alignment. Misaligned entities ('-') will be ignored during training.\n",
            "  warnings.warn(\n",
            "/usr/local/lib/python3.10/dist-packages/spacy/training/iob_utils.py:149: UserWarning: [W030] Some entities could not be aligned in the text \"ib neft srcbv rktours inv\" with entities \"[(13, 21, 'PER')]\". Use `spacy.training.offsets_to_biluo_tags(nlp.make_doc(text), entities)` to check the alignment. Misaligned entities ('-') will be ignored during training.\n",
            "  warnings.warn(\n",
            "/usr/local/lib/python3.10/dist-packages/spacy/training/iob_utils.py:149: UserWarning: [W030] Some entities could not be aligned in the text \"upi dr shindepradeep tjsb na\" with entities \"[(6, 20, 'PER')]\". Use `spacy.training.offsets_to_biluo_tags(nlp.make_doc(text), entities)` to check the alignment. Misaligned entities ('-') will be ignored during training.\n",
            "  warnings.warn(\n",
            "/usr/local/lib/python3.10/dist-packages/spacy/training/iob_utils.py:149: UserWarning: [W030] Some entities could not be aligned in the text \"posfitnessfactorythanein\" with entities \"[(3, 17, 'PER')]\". Use `spacy.training.offsets_to_biluo_tags(nlp.make_doc(text), entities)` to check the alignment. Misaligned entities ('-') will be ignored during training.\n",
            "  warnings.warn(\n",
            "/usr/local/lib/python3.10/dist-packages/spacy/training/iob_utils.py:149: UserWarning: [W030] Some entities could not be aligned in the text \"neftplatesandcups idib b idibh pl\" with entities \"[(4, 17, 'PER')]\". Use `spacy.training.offsets_to_biluo_tags(nlp.make_doc(text), entities)` to check the alignment. Misaligned entities ('-') will be ignored during training.\n",
            "  warnings.warn(\n",
            "/usr/local/lib/python3.10/dist-packages/spacy/training/iob_utils.py:149: UserWarning: [W030] Some entities could not be aligned in the text \"topur visa wamanhesonmumbaiin bha ca gen h id ref\" with entities \"[(11, 21, 'PER')]\". Use `spacy.training.offsets_to_biluo_tags(nlp.make_doc(text), entities)` to check the alignment. Misaligned entities ('-') will be ignored during training.\n",
            "  warnings.warn(\n",
            "/usr/local/lib/python3.10/dist-packages/spacy/training/iob_utils.py:149: UserWarning: [W030] Some entities could not be aligned in the text \"toib c madhumohanweeklykdspl\" with entities \"[(7, 17, 'PER')]\". Use `spacy.training.offsets_to_biluo_tags(nlp.make_doc(text), entities)` to check the alignment. Misaligned entities ('-') will be ignored during training.\n",
            "  warnings.warn(\n",
            "/usr/local/lib/python3.10/dist-packages/spacy/training/iob_utils.py:149: UserWarning: [W030] Some entities could not be aligned in the text \"toprajapatisteeltrff\" with entities \"[(2, 20, 'PER')]\". Use `spacy.training.offsets_to_biluo_tags(nlp.make_doc(text), entities)` to check the alignment. Misaligned entities ('-') will be ignored during training.\n",
            "  warnings.warn(\n",
            "/usr/local/lib/python3.10/dist-packages/spacy/training/iob_utils.py:149: UserWarning: [W030] Some entities could not be aligned in the text \"toib c orientcementpayment\" with entities \"[(7, 19, 'PER')]\". Use `spacy.training.offsets_to_biluo_tags(nlp.make_doc(text), entities)` to check the alignment. Misaligned entities ('-') will be ignored during training.\n",
            "  warnings.warn(\n",
            "/usr/local/lib/python3.10/dist-packages/spacy/training/iob_utils.py:149: UserWarning: [W030] Some entities could not be aligned in the text \"atl bharatbankbandrawest\" with entities \"[(4, 15, 'PER')]\". Use `spacy.training.offsets_to_biluo_tags(nlp.make_doc(text), entities)` to check the alignment. Misaligned entities ('-') will be ignored during training.\n",
            "  warnings.warn(\n",
            "/usr/local/lib/python3.10/dist-packages/spacy/training/iob_utils.py:149: UserWarning: [W030] Some entities could not be aligned in the text \"toib c prabhakarweeklylntparwati\" with entities \"[(7, 16, 'PER')]\". Use `spacy.training.offsets_to_biluo_tags(nlp.make_doc(text), entities)` to check the alignment. Misaligned entities ('-') will be ignored during training.\n",
            "  warnings.warn(\n",
            "/usr/local/lib/python3.10/dist-packages/spacy/training/iob_utils.py:149: UserWarning: [W030] Some entities could not be aligned in the text \"toib c nayaktraderspayment\" with entities \"[(7, 19, 'PER')]\". Use `spacy.training.offsets_to_biluo_tags(nlp.make_doc(text), entities)` to check the alignment. Misaligned entities ('-') will be ignored during training.\n",
            "  warnings.warn(\n",
            "/usr/local/lib/python3.10/dist-packages/spacy/training/iob_utils.py:149: UserWarning: [W030] Some entities could not be aligned in the text \"heritagemotorsmumb\" with entities \"[(0, 14, 'PER')]\". Use `spacy.training.offsets_to_biluo_tags(nlp.make_doc(text), entities)` to check the alignment. Misaligned entities ('-') will be ignored during training.\n",
            "  warnings.warn(\n",
            "/usr/local/lib/python3.10/dist-packages/spacy/training/iob_utils.py:149: UserWarning: [W030] Some entities could not be aligned in the text \"toib c pravinkumaracparmeshwarpayment\" with entities \"[(7, 30, 'PER')]\". Use `spacy.training.offsets_to_biluo_tags(nlp.make_doc(text), entities)` to check the alignment. Misaligned entities ('-') will be ignored during training.\n",
            "  warnings.warn(\n",
            "/usr/local/lib/python3.10/dist-packages/spacy/training/iob_utils.py:149: UserWarning: [W030] Some entities could not be aligned in the text \"inf inft forofficerent prashanticic\" with entities \"[(23, 31, 'PER')]\". Use `spacy.training.offsets_to_biluo_tags(nlp.make_doc(text), entities)` to check the alignment. Misaligned entities ('-') will be ignored during training.\n",
            "  warnings.warn(\n",
            "/usr/local/lib/python3.10/dist-packages/spacy/training/iob_utils.py:149: UserWarning: [W030] Some entities could not be aligned in the text \"ach ucba piramalcapitalandhou\" with entities \"[(9, 23, 'PER')]\". Use `spacy.training.offsets_to_biluo_tags(nlp.make_doc(text), entities)` to check the alignment. Misaligned entities ('-') will be ignored during training.\n",
            "  warnings.warn(\n",
            "/usr/local/lib/python3.10/dist-packages/spacy/training/iob_utils.py:149: UserWarning: [W030] Some entities could not be aligned in the text \"toib c prabhaenterprisespayment\" with entities \"[(7, 24, 'PER')]\". Use `spacy.training.offsets_to_biluo_tags(nlp.make_doc(text), entities)` to check the alignment. Misaligned entities ('-') will be ignored during training.\n",
            "  warnings.warn(\n",
            "/usr/local/lib/python3.10/dist-packages/spacy/training/iob_utils.py:149: UserWarning: [W030] Some entities could not be aligned in the text \"inrtgs punbr jakirhussainclosingbalancetotalnumber...\" with entities \"[(12, 25, 'PER')]\". Use `spacy.training.offsets_to_biluo_tags(nlp.make_doc(text), entities)` to check the alignment. Misaligned entities ('-') will be ignored during training.\n",
            "  warnings.warn(\n",
            "/usr/local/lib/python3.10/dist-packages/spacy/training/iob_utils.py:149: UserWarning: [W030] Some entities could not be aligned in the text \"toib c tecnowireproductspayment\" with entities \"[(7, 24, 'PER')]\". Use `spacy.training.offsets_to_biluo_tags(nlp.make_doc(text), entities)` to check the alignment. Misaligned entities ('-') will be ignored during training.\n",
            "  warnings.warn(\n",
            "/usr/local/lib/python3.10/dist-packages/spacy/training/iob_utils.py:149: UserWarning: [W030] Some entities could not be aligned in the text \"toib c laxmankurkotiacweeklyfoodingjaintarikere\" with entities \"[(7, 20, 'PER')]\". Use `spacy.training.offsets_to_biluo_tags(nlp.make_doc(text), entities)` to check the alignment. Misaligned entities ('-') will be ignored during training.\n",
            "  warnings.warn(\n",
            "/usr/local/lib/python3.10/dist-packages/spacy/training/iob_utils.py:149: UserWarning: [W030] Some entities could not be aligned in the text \"ib neft srcbv logistics inv\" with entities \"[(13, 23, 'PER')]\". Use `spacy.training.offsets_to_biluo_tags(nlp.make_doc(text), entities)` to check the alignment. Misaligned entities ('-') will be ignored during training.\n",
            "  warnings.warn(\n",
            "/usr/local/lib/python3.10/dist-packages/spacy/training/iob_utils.py:149: UserWarning: [W030] Some entities could not be aligned in the text \"rupaypos saiservicecentremumbaimhin\" with entities \"[(9, 25, 'PER')]\". Use `spacy.training.offsets_to_biluo_tags(nlp.make_doc(text), entities)` to check the alignment. Misaligned entities ('-') will be ignored during training.\n",
            "  warnings.warn(\n",
            "/usr/local/lib/python3.10/dist-packages/spacy/training/iob_utils.py:149: UserWarning: [W030] Some entities could not be aligned in the text \"chqpaid self byyogeshuttamdhormare sillod\" with entities \"[(15, 34, 'PER')]\". Use `spacy.training.offsets_to_biluo_tags(nlp.make_doc(text), entities)` to check the alignment. Misaligned entities ('-') will be ignored during training.\n",
            "  warnings.warn(\n",
            "/usr/local/lib/python3.10/dist-packages/spacy/training/iob_utils.py:149: UserWarning: [W030] Some entities could not be aligned in the text \"toib c laxmankukotiactransportpayment\" with entities \"[(7, 19, 'PER')]\". Use `spacy.training.offsets_to_biluo_tags(nlp.make_doc(text), entities)` to check the alignment. Misaligned entities ('-') will be ignored during training.\n",
            "  warnings.warn(\n",
            "/usr/local/lib/python3.10/dist-packages/spacy/training/iob_utils.py:149: UserWarning: [W030] Some entities could not be aligned in the text \"toib c mehtakisandieselpaymentoffshore\" with entities \"[(7, 23, 'PER')]\". Use `spacy.training.offsets_to_biluo_tags(nlp.make_doc(text), entities)` to check the alignment. Misaligned entities ('-') will be ignored during training.\n",
            "  warnings.warn(\n",
            "/usr/local/lib/python3.10/dist-packages/spacy/training/iob_utils.py:149: UserWarning: [W030] Some entities could not be aligned in the text \"chqpaid self widrawalbypandharinatheknathdhor\" with entities \"[(23, 45, 'PER')]\". Use `spacy.training.offsets_to_biluo_tags(nlp.make_doc(text), entities)` to check the alignment. Misaligned entities ('-') will be ignored during training.\n",
            "  warnings.warn(\n",
            "/usr/local/lib/python3.10/dist-packages/spacy/training/iob_utils.py:149: UserWarning: [W030] Some entities could not be aligned in the text \"toib c sainathfilingdieselpayment\" with entities \"[(7, 26, 'PER')]\". Use `spacy.training.offsets_to_biluo_tags(nlp.make_doc(text), entities)` to check the alignment. Misaligned entities ('-') will be ignored during training.\n",
            "  warnings.warn(\n",
            "/usr/local/lib/python3.10/dist-packages/spacy/training/iob_utils.py:149: UserWarning: [W030] Some entities could not be aligned in the text \"adanielectricitymumbai\" with entities \"[(0, 16, 'PER')]\". Use `spacy.training.offsets_to_biluo_tags(nlp.make_doc(text), entities)` to check the alignment. Misaligned entities ('-') will be ignored during training.\n",
            "  warnings.warn(\n",
            "/usr/local/lib/python3.10/dist-packages/spacy/training/iob_utils.py:149: UserWarning: [W030] Some entities could not be aligned in the text \"ib neft srcbv sanjaynag feespay\" with entities \"[(13, 23, 'PER')]\". Use `spacy.training.offsets_to_biluo_tags(nlp.make_doc(text), entities)` to check the alignment. Misaligned entities ('-') will be ignored during training.\n",
            "  warnings.warn(\n",
            "/usr/local/lib/python3.10/dist-packages/spacy/training/iob_utils.py:149: UserWarning: [W030] Some entities could not be aligned in the text \"byneftid frommschandrikaassociates\" with entities \"[(13, 34, 'PER')]\". Use `spacy.training.offsets_to_biluo_tags(nlp.make_doc(text), entities)` to check the alignment. Misaligned entities ('-') will be ignored during training.\n",
            "  warnings.warn(\n",
            "/usr/local/lib/python3.10/dist-packages/spacy/training/iob_utils.py:149: UserWarning: [W030] Some entities could not be aligned in the text \"pos deepwinesmumb\" with entities \"[(4, 13, 'PER')]\". Use `spacy.training.offsets_to_biluo_tags(nlp.make_doc(text), entities)` to check the alignment. Misaligned entities ('-') will be ignored during training.\n",
            "  warnings.warn(\n",
            "/usr/local/lib/python3.10/dist-packages/spacy/training/iob_utils.py:149: UserWarning: [W030] Some entities could not be aligned in the text \"mumbai lalbaugupi wellnessforevermedicareprivate\" with entities \"[(18, 41, 'PER')]\". Use `spacy.training.offsets_to_biluo_tags(nlp.make_doc(text), entities)` to check the alignment. Misaligned entities ('-') will be ignored during training.\n",
            "  warnings.warn(\n",
            "/usr/local/lib/python3.10/dist-packages/spacy/training/iob_utils.py:149: UserWarning: [W030] Some entities could not be aligned in the text \"inf inft vighneshvemp\" with entities \"[(9, 17, 'PER')]\". Use `spacy.training.offsets_to_biluo_tags(nlp.make_doc(text), entities)` to check the alignment. Misaligned entities ('-') will be ignored during training.\n",
            "  warnings.warn(\n",
            "/usr/local/lib/python3.10/dist-packages/spacy/training/iob_utils.py:149: UserWarning: [W030] Some entities could not be aligned in the text \"neftfreyavincreation ubin\" with entities \"[(4, 20, 'PER')]\". Use `spacy.training.offsets_to_biluo_tags(nlp.make_doc(text), entities)` to check the alignment. Misaligned entities ('-') will be ignored during training.\n",
            "  warnings.warn(\n",
            "/usr/local/lib/python3.10/dist-packages/spacy/training/iob_utils.py:149: UserWarning: [W030] Some entities could not be aligned in the text \"rupaypos bharatpetroleumcorpobhiwandimhin\" with entities \"[(9, 29, 'PER')]\". Use `spacy.training.offsets_to_biluo_tags(nlp.make_doc(text), entities)` to check the alignment. Misaligned entities ('-') will be ignored during training.\n",
            "  warnings.warn(\n",
            "/usr/local/lib/python3.10/dist-packages/spacy/training/iob_utils.py:149: UserWarning: [W030] Some entities could not be aligned in the text \"mmt imps tmhhwskl bh amazonsel hsbcbank\" with entities \"[(21, 27, 'PER')]\". Use `spacy.training.offsets_to_biluo_tags(nlp.make_doc(text), entities)` to check the alignment. Misaligned entities ('-') will be ignored during training.\n",
            "  warnings.warn(\n",
            "/usr/local/lib/python3.10/dist-packages/spacy/training/iob_utils.py:149: UserWarning: [W030] Some entities could not be aligned in the text \"toib c sachisteelsolutionspvtltdfinalpayment\" with entities \"[(7, 32, 'PER')]\". Use `spacy.training.offsets_to_biluo_tags(nlp.make_doc(text), entities)` to check the alignment. Misaligned entities ('-') will be ignored during training.\n",
            "  warnings.warn(\n",
            "/usr/local/lib/python3.10/dist-packages/spacy/training/iob_utils.py:149: UserWarning: [W030] Some entities could not be aligned in the text \"ib balwestbengal\" with entities \"[(3, 10, 'PER')]\". Use `spacy.training.offsets_to_biluo_tags(nlp.make_doc(text), entities)` to check the alignment. Misaligned entities ('-') will be ignored during training.\n",
            "  warnings.warn(\n",
            "/usr/local/lib/python3.10/dist-packages/spacy/training/iob_utils.py:149: UserWarning: [W030] Some entities could not be aligned in the text \"toib c manjlesabweeklyfoodingsupradaconstruction\" with entities \"[(7, 16, 'PER')]\". Use `spacy.training.offsets_to_biluo_tags(nlp.make_doc(text), entities)` to check the alignment. Misaligned entities ('-') will be ignored during training.\n",
            "  warnings.warn(\n",
            "/usr/local/lib/python3.10/dist-packages/spacy/training/iob_utils.py:149: UserWarning: [W030] Some entities could not be aligned in the text \"toib c sundarservicedieselpaymentjaintarikere\" with entities \"[(7, 26, 'PER')]\". Use `spacy.training.offsets_to_biluo_tags(nlp.make_doc(text), entities)` to check the alignment. Misaligned entities ('-') will be ignored during training.\n",
            "  warnings.warn(\n",
            "/usr/local/lib/python3.10/dist-packages/spacy/training/iob_utils.py:149: UserWarning: [W030] Some entities could not be aligned in the text \"toib c nayaktraderssandpaymenttatabanda\" with entities \"[(7, 19, 'PER')]\". Use `spacy.training.offsets_to_biluo_tags(nlp.make_doc(text), entities)` to check the alignment. Misaligned entities ('-') will be ignored during training.\n",
            "  warnings.warn(\n",
            "/usr/local/lib/python3.10/dist-packages/spacy/training/iob_utils.py:149: UserWarning: [W030] Some entities could not be aligned in the text \"wdltfrupi dr amazons hdfc amazonsell upi at sbioff...\" with entities \"[(12, 20, 'PER')]\". Use `spacy.training.offsets_to_biluo_tags(nlp.make_doc(text), entities)` to check the alignment. Misaligned entities ('-') will be ignored during training.\n",
            "  warnings.warn(\n",
            "/usr/local/lib/python3.10/dist-packages/spacy/training/iob_utils.py:149: UserWarning: [W030] Some entities could not be aligned in the text \"toib c vinayaclaborfeb\" with entities \"[(7, 12, 'PER')]\". Use `spacy.training.offsets_to_biluo_tags(nlp.make_doc(text), entities)` to check the alignment. Misaligned entities ('-') will be ignored during training.\n",
            "  warnings.warn(\n",
            "/usr/local/lib/python3.10/dist-packages/spacy/training/iob_utils.py:149: UserWarning: [W030] Some entities could not be aligned in the text \"toib c eliteengineeringservicespayment\" with entities \"[(7, 31, 'PER')]\". Use `spacy.training.offsets_to_biluo_tags(nlp.make_doc(text), entities)` to check the alignment. Misaligned entities ('-') will be ignored during training.\n",
            "  warnings.warn(\n",
            "/usr/local/lib/python3.10/dist-packages/spacy/training/iob_utils.py:149: UserWarning: [W030] Some entities could not be aligned in the text \"posalburaakmulticuisinthanein\" with entities \"[(3, 22, 'PER')]\". Use `spacy.training.offsets_to_biluo_tags(nlp.make_doc(text), entities)` to check the alignment. Misaligned entities ('-') will be ignored during training.\n",
            "  warnings.warn(\n",
            "/usr/local/lib/python3.10/dist-packages/spacy/training/iob_utils.py:149: UserWarning: [W030] Some entities could not be aligned in the text \"toib c durgeshbuildingmaterialcementpayment\" with entities \"[(7, 36, 'PER')]\". Use `spacy.training.offsets_to_biluo_tags(nlp.make_doc(text), entities)` to check the alignment. Misaligned entities ('-') will be ignored during training.\n",
            "  warnings.warn(\n",
            "/usr/local/lib/python3.10/dist-packages/spacy/training/iob_utils.py:149: UserWarning: [W030] Some entities could not be aligned in the text \"toib c prabhakarweeklyfoodinglntparwati\" with entities \"[(6, 16, 'PER')]\". Use `spacy.training.offsets_to_biluo_tags(nlp.make_doc(text), entities)` to check the alignment. Misaligned entities ('-') will be ignored during training.\n",
            "  warnings.warn(\n",
            "/usr/local/lib/python3.10/dist-packages/spacy/training/iob_utils.py:149: UserWarning: [W030] Some entities could not be aligned in the text \"rtgskkbkr jalaramdigitalcadca\" with entities \"[(9, 29, 'PER')]\". Use `spacy.training.offsets_to_biluo_tags(nlp.make_doc(text), entities)` to check the alignment. Misaligned entities ('-') will be ignored during training.\n",
            "  warnings.warn(\n",
            "/usr/local/lib/python3.10/dist-packages/spacy/training/iob_utils.py:149: UserWarning: [W030] Some entities could not be aligned in the text \"mmt imps travelexpensess prashantgh h\" with entities \"[(25, 33, 'PER')]\". Use `spacy.training.offsets_to_biluo_tags(nlp.make_doc(text), entities)` to check the alignment. Misaligned entities ('-') will be ignored during training.\n",
            "  warnings.warn(\n",
            "/usr/local/lib/python3.10/dist-packages/spacy/training/iob_utils.py:149: UserWarning: [W030] Some entities could not be aligned in the text \"rtgs sk utibr gajanandtradingcom yesbank\" with entities \"[(14, 22, 'PER')]\". Use `spacy.training.offsets_to_biluo_tags(nlp.make_doc(text), entities)` to check the alignment. Misaligned entities ('-') will be ignored during training.\n",
            "  warnings.warn(\n",
            "/usr/local/lib/python3.10/dist-packages/spacy/training/iob_utils.py:149: UserWarning: [W030] Some entities could not be aligned in the text \"rtg jigneshsbi\" with entities \"[(4, 11, 'PER')]\". Use `spacy.training.offsets_to_biluo_tags(nlp.make_doc(text), entities)` to check the alignment. Misaligned entities ('-') will be ignored during training.\n",
            "  warnings.warn(\n",
            "/usr/local/lib/python3.10/dist-packages/spacy/training/iob_utils.py:149: UserWarning: [W030] Some entities could not be aligned in the text \"neftjayeshpradeepbauskarjayesh cnrb jsbl\" with entities \"[(4, 30, 'PER')]\". Use `spacy.training.offsets_to_biluo_tags(nlp.make_doc(text), entities)` to check the alignment. Misaligned entities ('-') will be ignored during training.\n",
            "  warnings.warn(\n",
            "/usr/local/lib/python3.10/dist-packages/spacy/training/iob_utils.py:149: UserWarning: [W030] Some entities could not be aligned in the text \"neftyashsampat hdfc n yashsampvasaivikassahakariba...\" with entities \"[(4, 14, 'PER')]\". Use `spacy.training.offsets_to_biluo_tags(nlp.make_doc(text), entities)` to check the alignment. Misaligned entities ('-') will be ignored during training.\n",
            "  warnings.warn(\n",
            "/usr/local/lib/python3.10/dist-packages/spacy/training/iob_utils.py:149: UserWarning: [W030] Some entities could not be aligned in the text \"dr neftvallabhiprints kkbk\" with entities \"[(7, 21, 'PER')]\". Use `spacy.training.offsets_to_biluo_tags(nlp.make_doc(text), entities)` to check the alignment. Misaligned entities ('-') will be ignored during training.\n",
            "  warnings.warn(\n",
            "/usr/local/lib/python3.10/dist-packages/spacy/training/iob_utils.py:149: UserWarning: [W030] Some entities could not be aligned in the text \"neftkishormadhukarchitnis icic sf hs\" with entities \"[(4, 25, 'PER')]\". Use `spacy.training.offsets_to_biluo_tags(nlp.make_doc(text), entities)` to check the alignment. Misaligned entities ('-') will be ignored during training.\n",
            "  warnings.warn(\n"
          ]
        },
        {
          "output_type": "stream",
          "name": "stdout",
          "text": [
            "Losses at iteration 0: {'ner': 568.2704260350893}\n",
            "Starting iteration 1\n",
            "Losses at iteration 1: {'ner': 245.11288284943168}\n",
            "Starting iteration 2\n",
            "Losses at iteration 2: {'ner': 136.01983459924222}\n",
            "Starting iteration 3\n",
            "Losses at iteration 3: {'ner': 94.28713742362272}\n",
            "Starting iteration 4\n",
            "Losses at iteration 4: {'ner': 74.59427086809205}\n",
            "Starting iteration 5\n",
            "Losses at iteration 5: {'ner': 63.15244255870652}\n",
            "Starting iteration 6\n",
            "Losses at iteration 6: {'ner': 44.851744341284025}\n",
            "Starting iteration 7\n",
            "Losses at iteration 7: {'ner': 44.134770838880904}\n",
            "Starting iteration 8\n",
            "Losses at iteration 8: {'ner': 31.83276924671981}\n",
            "Starting iteration 9\n",
            "Losses at iteration 9: {'ner': 30.42661329353325}\n",
            "Starting iteration 10\n",
            "Losses at iteration 10: {'ner': 27.920091809312705}\n",
            "Starting iteration 11\n",
            "Losses at iteration 11: {'ner': 31.19071039114848}\n",
            "Starting iteration 12\n",
            "Losses at iteration 12: {'ner': 32.47897865027844}\n",
            "Starting iteration 13\n",
            "Losses at iteration 13: {'ner': 18.878165010245866}\n",
            "Starting iteration 14\n",
            "Losses at iteration 14: {'ner': 17.5266587477759}\n",
            "Starting iteration 15\n",
            "Losses at iteration 15: {'ner': 19.08871075950015}\n",
            "Starting iteration 16\n",
            "Losses at iteration 16: {'ner': 22.365698656822296}\n",
            "Starting iteration 17\n",
            "Losses at iteration 17: {'ner': 15.36916605626809}\n",
            "Starting iteration 18\n",
            "Losses at iteration 18: {'ner': 13.993016478290484}\n",
            "Starting iteration 19\n",
            "Losses at iteration 19: {'ner': 21.984598307695723}\n",
            "Starting iteration 20\n",
            "Losses at iteration 20: {'ner': 10.35456371544728}\n",
            "Starting iteration 21\n",
            "Losses at iteration 21: {'ner': 17.715374145083377}\n",
            "Starting iteration 22\n",
            "Losses at iteration 22: {'ner': 18.95183112690006}\n",
            "Starting iteration 23\n",
            "Losses at iteration 23: {'ner': 19.29533399482534}\n",
            "Starting iteration 24\n",
            "Losses at iteration 24: {'ner': 12.85745410723508}\n",
            "Starting iteration 25\n",
            "Losses at iteration 25: {'ner': 7.582917586251795}\n",
            "Starting iteration 26\n",
            "Losses at iteration 26: {'ner': 9.651946077787688}\n",
            "Starting iteration 27\n",
            "Losses at iteration 27: {'ner': 16.05246970228775}\n",
            "Starting iteration 28\n",
            "Losses at iteration 28: {'ner': 12.417671737708421}\n",
            "Starting iteration 29\n",
            "Losses at iteration 29: {'ner': 13.939536717109945}\n",
            "Model saved to Trained_NER_Model\n"
          ]
        }
      ]
    },
    {
      "cell_type": "code",
      "source": [
        "# 6.2  Model Training - Model Saving\n",
        "\n",
        "# Load the saved spaCy NER model\n",
        "model_dir = \"Trained_NER_Model\"  # Path to your saved model\n",
        "nlp = spacy.load(model_dir)\n",
        "\n",
        "# Save the model using joblib\n",
        "joblib_file_path = \"NER_Model.joblib\"\n",
        "joblib.dump(nlp, joblib_file_path)\n",
        "print(f\"Model saved as a joblib file at {joblib_file_path}\")"
      ],
      "metadata": {
        "id": "AAd1Td748kQy",
        "colab": {
          "base_uri": "https://localhost:8080/"
        },
        "outputId": "3e25eccb-0706-4aec-f0bc-fc9ba851039c"
      },
      "execution_count": null,
      "outputs": [
        {
          "output_type": "stream",
          "name": "stdout",
          "text": [
            "Model saved as a joblib file at NER_Model.joblib\n"
          ]
        }
      ]
    },
    {
      "cell_type": "markdown",
      "source": [
        "# 4. Model Testing"
      ],
      "metadata": {
        "id": "_62Thwqzo1_o"
      }
    },
    {
      "cell_type": "code",
      "source": [
        "# 7. Model Testing\n",
        "\n",
        "# Load the saved model using joblib\n",
        "model_dir = \"NER_Model.joblib\"  # Adjust this path to where your joblib model is saved\n",
        "model = joblib.load(model_dir)\n",
        "\n",
        "# Read the CSV file\n",
        "test_data = pd.read_csv('/content/shuffled_data_ready_for_training.csv')  # Replace with your CSV file path\n",
        "\n",
        "# Check that the 'Description' column exists in the CSV\n",
        "if 'Description' not in test_data.columns:\n",
        "    print(\"Error: 'Description' column not found in CSV file.\")\n",
        "else:\n",
        "    # Prepare a list to store the results\n",
        "    results = []\n",
        "\n",
        "    # Process each text entry in the 'Description' column\n",
        "    for text in test_data['Description'].astype(str).fillna('').tolist():\n",
        "        if text.strip():  # Proceed only if text is non-empty\n",
        "            # Use the loaded model for predictions\n",
        "            doc = model(text)  # Use model to get entities\n",
        "            for ent in doc.ents:\n",
        "                results.append({\n",
        "                    \"Description\": text,\n",
        "                    \"Entity\": ent.text,\n",
        "                    \"Label\": ent.label_\n",
        "                })\n",
        "        else:\n",
        "            results.append({\n",
        "                \"Description\": text,\n",
        "                \"Entity\": \"No text found\",\n",
        "                \"Label\": \"N/A\"\n",
        "            })\n",
        "\n",
        "    # Convert results to a DataFrame\n",
        "    output_df = pd.DataFrame(results)\n",
        "\n",
        "    # Save the predicted entities to a CSV file\n",
        "    output_csv_path = \"Predicted_entities_optimized.csv\"\n",
        "    output_df.to_csv(output_csv_path, index=False)\n",
        "\n",
        "    print(f\"Predicted entities saved to {output_csv_path}\")\n",
        "\n",
        "    # If running in a Colab environment, download the generated CSV file\n",
        "    files.download(output_csv_path)"
      ],
      "metadata": {
        "id": "i9yfpsRj9NtS",
        "colab": {
          "base_uri": "https://localhost:8080/",
          "height": 35
        },
        "outputId": "251e1390-5fc7-4801-cc0e-5abc11d41b34"
      },
      "execution_count": null,
      "outputs": [
        {
          "output_type": "stream",
          "name": "stdout",
          "text": [
            "Predicted entities saved to Predicted_entities_optimized.csv\n"
          ]
        },
        {
          "output_type": "display_data",
          "data": {
            "text/plain": [
              "<IPython.core.display.Javascript object>"
            ],
            "application/javascript": [
              "\n",
              "    async function download(id, filename, size) {\n",
              "      if (!google.colab.kernel.accessAllowed) {\n",
              "        return;\n",
              "      }\n",
              "      const div = document.createElement('div');\n",
              "      const label = document.createElement('label');\n",
              "      label.textContent = `Downloading \"${filename}\": `;\n",
              "      div.appendChild(label);\n",
              "      const progress = document.createElement('progress');\n",
              "      progress.max = size;\n",
              "      div.appendChild(progress);\n",
              "      document.body.appendChild(div);\n",
              "\n",
              "      const buffers = [];\n",
              "      let downloaded = 0;\n",
              "\n",
              "      const channel = await google.colab.kernel.comms.open(id);\n",
              "      // Send a message to notify the kernel that we're ready.\n",
              "      channel.send({})\n",
              "\n",
              "      for await (const message of channel.messages) {\n",
              "        // Send a message to notify the kernel that we're ready.\n",
              "        channel.send({})\n",
              "        if (message.buffers) {\n",
              "          for (const buffer of message.buffers) {\n",
              "            buffers.push(buffer);\n",
              "            downloaded += buffer.byteLength;\n",
              "            progress.value = downloaded;\n",
              "          }\n",
              "        }\n",
              "      }\n",
              "      const blob = new Blob(buffers, {type: 'application/binary'});\n",
              "      const a = document.createElement('a');\n",
              "      a.href = window.URL.createObjectURL(blob);\n",
              "      a.download = filename;\n",
              "      div.appendChild(a);\n",
              "      a.click();\n",
              "      div.remove();\n",
              "    }\n",
              "  "
            ]
          },
          "metadata": {}
        },
        {
          "output_type": "display_data",
          "data": {
            "text/plain": [
              "<IPython.core.display.Javascript object>"
            ],
            "application/javascript": [
              "download(\"download_a21de9f6-5b7b-486d-8b4f-773616683894\", \"Predicted_entities_optimized.csv\", 28227)"
            ]
          },
          "metadata": {}
        }
      ]
    },
    {
      "cell_type": "code",
      "source": [
        "#####updated FUll dataset in output\n",
        "\n",
        "# Load the saved model using joblib\n",
        "model_dir = \"NER_Model.joblib\"  # Adjust this path to where your joblib model is saved\n",
        "model = joblib.load(model_dir)\n",
        "\n",
        "# Read the CSV file\n",
        "test_data = pd.read_csv('/content/clean data for testing.xlsx')  # Replace with your CSV file path\n",
        "\n",
        "# Check that the 'Description' column exists in the CSV\n",
        "if 'Description' not in test_data.columns:\n",
        "    print(\"Error: 'Description' column not found in CSV file.\")\n",
        "else:\n",
        "    # Print the total count of input data\n",
        "    print(f\"Total number of rows in input data: {len(test_data)}\")\n",
        "\n",
        "    # Prepare a list to store the results\n",
        "    results = []\n",
        "\n",
        "    # Process each text entry in the 'Description' column\n",
        "    for text in test_data['Description'].astype(str).fillna('').tolist():\n",
        "        if text.strip():  # Proceed only if text is non-empty\n",
        "            # Use the loaded model for predictions\n",
        "            doc = model(text)  # Use model to get entities\n",
        "            if doc.ents:\n",
        "                # If entities are found, concatenate the entities into a single string\n",
        "                entities = \", \".join([f\"{ent.text}\" for ent in doc.ents])\n",
        "                results.append({\n",
        "                    \"Description\": text,\n",
        "                    \"Entity\": entities\n",
        "                })\n",
        "            else:\n",
        "                # If no entities are found, add a single row with \"No entity\"\n",
        "                results.append({\n",
        "                    \"Description\": text,\n",
        "                    \"Entity\": \"No entity\",\n",
        "                })\n",
        "        else:\n",
        "            # Handle cases where text is empty\n",
        "            results.append({\n",
        "                \"Description\": text,\n",
        "                \"Entity\": \"No text found\",\n",
        "            })\n",
        "\n",
        "    # Convert results to a DataFrame\n",
        "    output_df = pd.DataFrame(results)\n",
        "\n",
        "    # Ensure the output matches the input number of rows (no extra rows)\n",
        "    print(f\"Total number of rows in output data: {len(output_df)}\")\n",
        "\n",
        "    # Save the predicted entities to a CSV file\n",
        "    output_csv_path = \"Predicted_entities_complete.csv\"\n",
        "    output_df.to_csv(output_csv_path, index=False)\n",
        "\n",
        "    print(f\"Predicted entities saved to {output_csv_path}\")\n",
        "\n",
        "    # If running in a Colab environment, download the generated CSV file\n",
        "    files.download(output_csv_path)\n",
        "\n"
      ],
      "metadata": {
        "colab": {
          "base_uri": "https://localhost:8080/",
          "height": 72
        },
        "id": "SYEhL_Va9tEB",
        "outputId": "5d083192-b5aa-43c7-f191-e806af88d709"
      },
      "execution_count": null,
      "outputs": [
        {
          "output_type": "stream",
          "name": "stdout",
          "text": [
            "Total number of rows in input data: 456\n",
            "Total number of rows in output data: 456\n",
            "Predicted entities saved to Predicted_entities_complete.csv\n"
          ]
        },
        {
          "output_type": "display_data",
          "data": {
            "text/plain": [
              "<IPython.core.display.Javascript object>"
            ],
            "application/javascript": [
              "\n",
              "    async function download(id, filename, size) {\n",
              "      if (!google.colab.kernel.accessAllowed) {\n",
              "        return;\n",
              "      }\n",
              "      const div = document.createElement('div');\n",
              "      const label = document.createElement('label');\n",
              "      label.textContent = `Downloading \"${filename}\": `;\n",
              "      div.appendChild(label);\n",
              "      const progress = document.createElement('progress');\n",
              "      progress.max = size;\n",
              "      div.appendChild(progress);\n",
              "      document.body.appendChild(div);\n",
              "\n",
              "      const buffers = [];\n",
              "      let downloaded = 0;\n",
              "\n",
              "      const channel = await google.colab.kernel.comms.open(id);\n",
              "      // Send a message to notify the kernel that we're ready.\n",
              "      channel.send({})\n",
              "\n",
              "      for await (const message of channel.messages) {\n",
              "        // Send a message to notify the kernel that we're ready.\n",
              "        channel.send({})\n",
              "        if (message.buffers) {\n",
              "          for (const buffer of message.buffers) {\n",
              "            buffers.push(buffer);\n",
              "            downloaded += buffer.byteLength;\n",
              "            progress.value = downloaded;\n",
              "          }\n",
              "        }\n",
              "      }\n",
              "      const blob = new Blob(buffers, {type: 'application/binary'});\n",
              "      const a = document.createElement('a');\n",
              "      a.href = window.URL.createObjectURL(blob);\n",
              "      a.download = filename;\n",
              "      div.appendChild(a);\n",
              "      a.click();\n",
              "      div.remove();\n",
              "    }\n",
              "  "
            ]
          },
          "metadata": {}
        },
        {
          "output_type": "display_data",
          "data": {
            "text/plain": [
              "<IPython.core.display.Javascript object>"
            ],
            "application/javascript": [
              "download(\"download_b6c64f99-009f-44ee-b056-1a4e0aac0250\", \"Predicted_entities_complete.csv\", 22853)"
            ]
          },
          "metadata": {}
        }
      ]
    },
    {
      "cell_type": "code",
      "source": [],
      "metadata": {
        "id": "YQaQfG9u_JpG"
      },
      "execution_count": null,
      "outputs": []
    }
  ]
}